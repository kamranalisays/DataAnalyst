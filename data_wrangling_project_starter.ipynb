{
 "cells": [
  {
   "cell_type": "markdown",
   "metadata": {
    "id": "GNIwe5N7s0e_"
   },
   "source": [
    "# Real-world Data Wrangling"
   ]
  },
  {
   "cell_type": "markdown",
   "metadata": {
    "id": "_BG63Tpg8ep_"
   },
   "source": [
    "In this project, you will apply the skills you acquired in the course to gather and wrangle real-world data with two datasets of your choice.\n",
    "\n",
    "You will retrieve and extract the data, assess the data programmatically and visually, accross elements of data quality and structure, and implement a cleaning strategy for the data. You will then store the updated data into your selected database/data store, combine the data, and answer a research question with the datasets.\n",
    "\n",
    "Throughout the process, you are expected to:\n",
    "\n",
    "1. Explain your decisions towards methods used for gathering, assessing, cleaning, storing, and answering the research question\n",
    "2. Write code comments so your code is more readable"
   ]
  },
  {
   "cell_type": "markdown",
   "metadata": {
    "id": "lDYDkH-Zs7Nn"
   },
   "source": [
    "## 1. Gather data\n",
    "\n",
    "In this section, you will extract data using two different data gathering methods and combine the data. Use at least two different types of data-gathering methods."
   ]
  },
  {
   "cell_type": "markdown",
   "metadata": {
    "id": "LbN7z7rcuqpO"
   },
   "source": [
    "### **1.1.** Problem Statement\n",
    "In 2-4 sentences, explain the kind of problem you want to look at and the datasets you will be wrangling for this project."
   ]
  },
  {
   "cell_type": "markdown",
   "metadata": {
    "id": "gi6swhjSYqu2"
   },
   "source": [
    "*FILL IN:*"
   ]
  },
  {
   "cell_type": "markdown",
   "metadata": {
    "id": "8AQfBAdUypMm"
   },
   "source": [
    "### **1.2.** Gather at least two datasets using two different data gathering methods\n",
    "\n",
    "List of data gathering methods:\n",
    "\n",
    "- Download data manually\n",
    "- Programmatically downloading files\n",
    "- Gather data by accessing APIs\n",
    "- Gather and extract data from HTML files using BeautifulSoup\n",
    "- Extract data from a SQL database\n",
    "\n",
    "Each dataset must have at least two variables, and have greater than 500 data samples within each dataset.\n",
    "\n",
    "For each dataset, briefly describe why you picked the dataset and the gathering method (2-3 full sentences), including the names and significance of the variables in the dataset. Show your work (e.g., if using an API to download the data, please include a snippet of your code). \n",
    "\n",
    "Load the dataset programmtically into this notebook."
   ]
  },
  {
   "cell_type": "markdown",
   "metadata": {
    "id": "7e6gS0wL1KTu"
   },
   "source": [
    "#### **Dataset 1**\n",
    "\n",
    "Type: *FILL IN* (e.g., CSV File.)\n",
    "\n",
    "Method: *FILL IN* (e.g., The data was gathered using the \"Downloading files\" method from X source.)\n",
    "\n",
    "Dataset variables:\n",
    "\n",
    "*   *Variable 1 FILL IN* (e.g., H_MEAN: Mean hourly wage)\n",
    "*   *Variable 2 FILL IN*"
   ]
  },
  {
   "cell_type": "code",
   "execution_count": 481,
   "metadata": {},
   "outputs": [],
   "source": [
    "# imports\n",
    "import numpy as np\n",
    "import pandas as pd\n",
    "import matplotlib.pyplot as plt"
   ]
  },
  {
   "cell_type": "code",
   "execution_count": 482,
   "metadata": {
    "id": "Su8E0uLuYkHU"
   },
   "outputs": [],
   "source": [
    "#FILL IN 1st data gathering and loading method\n",
    "\n",
    "############################## First DataSet #########################################\n",
    "# Seoul Weather Data load from url\n",
    "# url return a zip file containing csv files\n",
    "\n",
    "import requests as req\n",
    "import zipfile as zf\n",
    "from io import BytesIO \n",
    "\n",
    "url =  'https://www.kaggle.com/api/v1/datasets/download/alfredkondoro/seoul-historical-weather-data-2024'\n",
    "response = req.get(url)\n",
    "\n",
    "with zf.ZipFile(BytesIO(response.content)) as z:\n",
    "    file_list = z.namelist()\n",
    "   # print('files in zip =', file_list )\n",
    "\n",
    "    csv_files = [ f  for f in file_list if f.endswith('.csv') ]\n",
    "\n",
    "    count=len(csv_files)\n",
    "    raw_df_wd = pd.DataFrame()\n",
    "    i=0;\n",
    "    \n",
    "    while count > 0 :\n",
    "        count= count -1\n",
    "        if csv_files:\n",
    "            with z.open(csv_files[i]) as f:\n",
    "                temp_df = pd.read_csv(f)\n",
    "                raw_df_wd = pd.concat([raw_df_wd , temp_df] , ignore_index = True)\n",
    "                i =i+1\n",
    "        else:\n",
    "            print(\"No CSV files found.\")\n"
   ]
  },
  {
   "cell_type": "code",
   "execution_count": 483,
   "metadata": {},
   "outputs": [],
   "source": [
    "\n",
    "inprocess_df_wd=raw_df_wd"
   ]
  },
  {
   "cell_type": "code",
   "execution_count": 484,
   "metadata": {},
   "outputs": [
    {
     "data": {
      "text/html": [
       "<div>\n",
       "<style scoped>\n",
       "    .dataframe tbody tr th:only-of-type {\n",
       "        vertical-align: middle;\n",
       "    }\n",
       "\n",
       "    .dataframe tbody tr th {\n",
       "        vertical-align: top;\n",
       "    }\n",
       "\n",
       "    .dataframe thead th {\n",
       "        text-align: right;\n",
       "    }\n",
       "</style>\n",
       "<table border=\"1\" class=\"dataframe\">\n",
       "  <thead>\n",
       "    <tr style=\"text-align: right;\">\n",
       "      <th></th>\n",
       "      <th>name</th>\n",
       "      <th>datetime</th>\n",
       "      <th>tempmax</th>\n",
       "      <th>tempmin</th>\n",
       "      <th>temp</th>\n",
       "      <th>feelslikemax</th>\n",
       "      <th>feelslikemin</th>\n",
       "      <th>feelslike</th>\n",
       "      <th>dew</th>\n",
       "      <th>humidity</th>\n",
       "      <th>...</th>\n",
       "      <th>solarenergy</th>\n",
       "      <th>uvindex</th>\n",
       "      <th>severerisk</th>\n",
       "      <th>sunrise</th>\n",
       "      <th>sunset</th>\n",
       "      <th>moonphase</th>\n",
       "      <th>conditions</th>\n",
       "      <th>description</th>\n",
       "      <th>icon</th>\n",
       "      <th>stations</th>\n",
       "    </tr>\n",
       "  </thead>\n",
       "  <tbody>\n",
       "    <tr>\n",
       "      <th>10971</th>\n",
       "      <td>seoul</td>\n",
       "      <td>2024-01-01</td>\n",
       "      <td>7.3</td>\n",
       "      <td>-0.2</td>\n",
       "      <td>3.0</td>\n",
       "      <td>6.6</td>\n",
       "      <td>-2.8</td>\n",
       "      <td>1.7</td>\n",
       "      <td>0.5</td>\n",
       "      <td>84.7</td>\n",
       "      <td>...</td>\n",
       "      <td>8.6</td>\n",
       "      <td>5.0</td>\n",
       "      <td>10.0</td>\n",
       "      <td>2024-01-01T07:46:50</td>\n",
       "      <td>2024-01-01T17:23:42</td>\n",
       "      <td>0.66</td>\n",
       "      <td>Partially cloudy</td>\n",
       "      <td>Partly cloudy throughout the day.</td>\n",
       "      <td>partly-cloudy-day</td>\n",
       "      <td>47111099999,47098099999,47112099999,4711909999...</td>\n",
       "    </tr>\n",
       "    <tr>\n",
       "      <th>10970</th>\n",
       "      <td>seoul</td>\n",
       "      <td>2023-12-31</td>\n",
       "      <td>4.4</td>\n",
       "      <td>0.8</td>\n",
       "      <td>2.3</td>\n",
       "      <td>3.1</td>\n",
       "      <td>-1.8</td>\n",
       "      <td>0.4</td>\n",
       "      <td>1.5</td>\n",
       "      <td>94.7</td>\n",
       "      <td>...</td>\n",
       "      <td>4.5</td>\n",
       "      <td>4.0</td>\n",
       "      <td>10.0</td>\n",
       "      <td>2023-12-31T07:46:38</td>\n",
       "      <td>2023-12-31T17:22:57</td>\n",
       "      <td>0.63</td>\n",
       "      <td>Snow, Rain, Partially cloudy</td>\n",
       "      <td>Partly cloudy throughout the day with a chance...</td>\n",
       "      <td>rain</td>\n",
       "      <td>47111099999,47098099999,47112099999,4711909999...</td>\n",
       "    </tr>\n",
       "    <tr>\n",
       "      <th>10969</th>\n",
       "      <td>seoul</td>\n",
       "      <td>2023-12-30</td>\n",
       "      <td>1.9</td>\n",
       "      <td>-0.9</td>\n",
       "      <td>0.5</td>\n",
       "      <td>-1.2</td>\n",
       "      <td>-3.5</td>\n",
       "      <td>-2.4</td>\n",
       "      <td>-1.0</td>\n",
       "      <td>90.1</td>\n",
       "      <td>...</td>\n",
       "      <td>1.8</td>\n",
       "      <td>1.0</td>\n",
       "      <td>10.0</td>\n",
       "      <td>2023-12-30T07:46:24</td>\n",
       "      <td>2023-12-30T17:22:12</td>\n",
       "      <td>0.60</td>\n",
       "      <td>Snow, Rain, Partially cloudy</td>\n",
       "      <td>Partly cloudy throughout the day with rain or ...</td>\n",
       "      <td>snow</td>\n",
       "      <td>47111099999,47098099999,47112099999,4711909999...</td>\n",
       "    </tr>\n",
       "    <tr>\n",
       "      <th>10968</th>\n",
       "      <td>seoul</td>\n",
       "      <td>2023-12-29</td>\n",
       "      <td>4.5</td>\n",
       "      <td>-1.4</td>\n",
       "      <td>1.5</td>\n",
       "      <td>3.0</td>\n",
       "      <td>-3.5</td>\n",
       "      <td>-0.1</td>\n",
       "      <td>-3.3</td>\n",
       "      <td>70.2</td>\n",
       "      <td>...</td>\n",
       "      <td>8.8</td>\n",
       "      <td>4.0</td>\n",
       "      <td>10.0</td>\n",
       "      <td>2023-12-29T07:46:08</td>\n",
       "      <td>2023-12-29T17:21:29</td>\n",
       "      <td>0.57</td>\n",
       "      <td>Partially cloudy</td>\n",
       "      <td>Partly cloudy throughout the day.</td>\n",
       "      <td>partly-cloudy-day</td>\n",
       "      <td>47111099999,47098099999,47112099999,4711909999...</td>\n",
       "    </tr>\n",
       "    <tr>\n",
       "      <th>10967</th>\n",
       "      <td>seoul</td>\n",
       "      <td>2023-12-28</td>\n",
       "      <td>4.1</td>\n",
       "      <td>-1.7</td>\n",
       "      <td>1.1</td>\n",
       "      <td>2.4</td>\n",
       "      <td>-3.4</td>\n",
       "      <td>0.0</td>\n",
       "      <td>-3.7</td>\n",
       "      <td>71.5</td>\n",
       "      <td>...</td>\n",
       "      <td>9.6</td>\n",
       "      <td>5.0</td>\n",
       "      <td>10.0</td>\n",
       "      <td>2023-12-28T07:45:50</td>\n",
       "      <td>2023-12-28T17:20:48</td>\n",
       "      <td>0.54</td>\n",
       "      <td>Partially cloudy</td>\n",
       "      <td>Partly cloudy throughout the day.</td>\n",
       "      <td>partly-cloudy-day</td>\n",
       "      <td>47111099999,47098099999,47112099999,4711909999...</td>\n",
       "    </tr>\n",
       "  </tbody>\n",
       "</table>\n",
       "<p>5 rows × 33 columns</p>\n",
       "</div>"
      ],
      "text/plain": [
       "        name    datetime  tempmax  tempmin  temp  feelslikemax  feelslikemin  \\\n",
       "10971  seoul  2024-01-01      7.3     -0.2   3.0           6.6          -2.8   \n",
       "10970  seoul  2023-12-31      4.4      0.8   2.3           3.1          -1.8   \n",
       "10969  seoul  2023-12-30      1.9     -0.9   0.5          -1.2          -3.5   \n",
       "10968  seoul  2023-12-29      4.5     -1.4   1.5           3.0          -3.5   \n",
       "10967  seoul  2023-12-28      4.1     -1.7   1.1           2.4          -3.4   \n",
       "\n",
       "       feelslike  dew  humidity  ...  solarenergy  uvindex  severerisk  \\\n",
       "10971        1.7  0.5      84.7  ...          8.6      5.0        10.0   \n",
       "10970        0.4  1.5      94.7  ...          4.5      4.0        10.0   \n",
       "10969       -2.4 -1.0      90.1  ...          1.8      1.0        10.0   \n",
       "10968       -0.1 -3.3      70.2  ...          8.8      4.0        10.0   \n",
       "10967        0.0 -3.7      71.5  ...          9.6      5.0        10.0   \n",
       "\n",
       "                   sunrise               sunset  moonphase  \\\n",
       "10971  2024-01-01T07:46:50  2024-01-01T17:23:42       0.66   \n",
       "10970  2023-12-31T07:46:38  2023-12-31T17:22:57       0.63   \n",
       "10969  2023-12-30T07:46:24  2023-12-30T17:22:12       0.60   \n",
       "10968  2023-12-29T07:46:08  2023-12-29T17:21:29       0.57   \n",
       "10967  2023-12-28T07:45:50  2023-12-28T17:20:48       0.54   \n",
       "\n",
       "                         conditions  \\\n",
       "10971              Partially cloudy   \n",
       "10970  Snow, Rain, Partially cloudy   \n",
       "10969  Snow, Rain, Partially cloudy   \n",
       "10968              Partially cloudy   \n",
       "10967              Partially cloudy   \n",
       "\n",
       "                                             description               icon  \\\n",
       "10971                  Partly cloudy throughout the day.  partly-cloudy-day   \n",
       "10970  Partly cloudy throughout the day with a chance...               rain   \n",
       "10969  Partly cloudy throughout the day with rain or ...               snow   \n",
       "10968                  Partly cloudy throughout the day.  partly-cloudy-day   \n",
       "10967                  Partly cloudy throughout the day.  partly-cloudy-day   \n",
       "\n",
       "                                                stations  \n",
       "10971  47111099999,47098099999,47112099999,4711909999...  \n",
       "10970  47111099999,47098099999,47112099999,4711909999...  \n",
       "10969  47111099999,47098099999,47112099999,4711909999...  \n",
       "10968  47111099999,47098099999,47112099999,4711909999...  \n",
       "10967  47111099999,47098099999,47112099999,4711909999...  \n",
       "\n",
       "[5 rows x 33 columns]"
      ]
     },
     "execution_count": 484,
     "metadata": {},
     "output_type": "execute_result"
    }
   ],
   "source": [
    "inprocess_df_wd.sort_values(by='datetime', ascending= False).head(5)"
   ]
  },
  {
   "cell_type": "code",
   "execution_count": 485,
   "metadata": {},
   "outputs": [
    {
     "data": {
      "text/html": [
       "<div>\n",
       "<style scoped>\n",
       "    .dataframe tbody tr th:only-of-type {\n",
       "        vertical-align: middle;\n",
       "    }\n",
       "\n",
       "    .dataframe tbody tr th {\n",
       "        vertical-align: top;\n",
       "    }\n",
       "\n",
       "    .dataframe thead th {\n",
       "        text-align: right;\n",
       "    }\n",
       "</style>\n",
       "<table border=\"1\" class=\"dataframe\">\n",
       "  <thead>\n",
       "    <tr style=\"text-align: right;\">\n",
       "      <th></th>\n",
       "      <th>name</th>\n",
       "      <th>datetime</th>\n",
       "      <th>tempmax</th>\n",
       "      <th>tempmin</th>\n",
       "      <th>temp</th>\n",
       "      <th>feelslikemax</th>\n",
       "      <th>feelslikemin</th>\n",
       "      <th>feelslike</th>\n",
       "      <th>dew</th>\n",
       "      <th>humidity</th>\n",
       "      <th>...</th>\n",
       "      <th>solarenergy</th>\n",
       "      <th>uvindex</th>\n",
       "      <th>severerisk</th>\n",
       "      <th>sunrise</th>\n",
       "      <th>sunset</th>\n",
       "      <th>moonphase</th>\n",
       "      <th>conditions</th>\n",
       "      <th>description</th>\n",
       "      <th>icon</th>\n",
       "      <th>stations</th>\n",
       "    </tr>\n",
       "  </thead>\n",
       "  <tbody>\n",
       "    <tr>\n",
       "      <th>0</th>\n",
       "      <td>seoul</td>\n",
       "      <td>1994-01-01</td>\n",
       "      <td>35.2</td>\n",
       "      <td>16.4</td>\n",
       "      <td>26.3</td>\n",
       "      <td>33.4</td>\n",
       "      <td>13.0</td>\n",
       "      <td>24.3</td>\n",
       "      <td>15.5</td>\n",
       "      <td>65.9</td>\n",
       "      <td>...</td>\n",
       "      <td>NaN</td>\n",
       "      <td>NaN</td>\n",
       "      <td>NaN</td>\n",
       "      <td>1994-01-01T07:46:54</td>\n",
       "      <td>1994-01-01T17:23:56</td>\n",
       "      <td>0.61</td>\n",
       "      <td>Partially cloudy</td>\n",
       "      <td>Partly cloudy throughout the day.</td>\n",
       "      <td>partly-cloudy-day</td>\n",
       "      <td>47111099999,47112099999,47120099999,4711009999...</td>\n",
       "    </tr>\n",
       "    <tr>\n",
       "      <th>1</th>\n",
       "      <td>seoul</td>\n",
       "      <td>1994-01-02</td>\n",
       "      <td>43.0</td>\n",
       "      <td>31.5</td>\n",
       "      <td>36.2</td>\n",
       "      <td>39.4</td>\n",
       "      <td>26.7</td>\n",
       "      <td>32.6</td>\n",
       "      <td>27.9</td>\n",
       "      <td>72.1</td>\n",
       "      <td>...</td>\n",
       "      <td>NaN</td>\n",
       "      <td>NaN</td>\n",
       "      <td>NaN</td>\n",
       "      <td>1994-01-02T07:47:03</td>\n",
       "      <td>1994-01-02T17:24:44</td>\n",
       "      <td>0.65</td>\n",
       "      <td>Partially cloudy</td>\n",
       "      <td>Partly cloudy throughout the day.</td>\n",
       "      <td>partly-cloudy-day</td>\n",
       "      <td>47111099999,47112099999,47120099999,4711009999...</td>\n",
       "    </tr>\n",
       "    <tr>\n",
       "      <th>2</th>\n",
       "      <td>seoul</td>\n",
       "      <td>1994-01-03</td>\n",
       "      <td>47.9</td>\n",
       "      <td>30.9</td>\n",
       "      <td>38.0</td>\n",
       "      <td>44.7</td>\n",
       "      <td>24.5</td>\n",
       "      <td>35.4</td>\n",
       "      <td>27.3</td>\n",
       "      <td>68.1</td>\n",
       "      <td>...</td>\n",
       "      <td>NaN</td>\n",
       "      <td>NaN</td>\n",
       "      <td>NaN</td>\n",
       "      <td>1994-01-03T07:47:11</td>\n",
       "      <td>1994-01-03T17:25:33</td>\n",
       "      <td>0.68</td>\n",
       "      <td>Partially cloudy</td>\n",
       "      <td>Partly cloudy throughout the day.</td>\n",
       "      <td>partly-cloudy-day</td>\n",
       "      <td>47111099999,47112099999,47120099999,4711009999...</td>\n",
       "    </tr>\n",
       "    <tr>\n",
       "      <th>3</th>\n",
       "      <td>seoul</td>\n",
       "      <td>1994-01-04</td>\n",
       "      <td>38.8</td>\n",
       "      <td>22.1</td>\n",
       "      <td>30.1</td>\n",
       "      <td>32.0</td>\n",
       "      <td>18.4</td>\n",
       "      <td>26.3</td>\n",
       "      <td>13.6</td>\n",
       "      <td>51.2</td>\n",
       "      <td>...</td>\n",
       "      <td>NaN</td>\n",
       "      <td>NaN</td>\n",
       "      <td>NaN</td>\n",
       "      <td>1994-01-04T07:47:16</td>\n",
       "      <td>1994-01-04T17:26:23</td>\n",
       "      <td>0.72</td>\n",
       "      <td>Clear</td>\n",
       "      <td>Clear conditions throughout the day.</td>\n",
       "      <td>clear-day</td>\n",
       "      <td>47111099999,47112099999,47120099999,4711009999...</td>\n",
       "    </tr>\n",
       "    <tr>\n",
       "      <th>4</th>\n",
       "      <td>seoul</td>\n",
       "      <td>1994-01-05</td>\n",
       "      <td>40.0</td>\n",
       "      <td>24.0</td>\n",
       "      <td>33.1</td>\n",
       "      <td>40.0</td>\n",
       "      <td>18.5</td>\n",
       "      <td>31.0</td>\n",
       "      <td>21.7</td>\n",
       "      <td>63.9</td>\n",
       "      <td>...</td>\n",
       "      <td>NaN</td>\n",
       "      <td>NaN</td>\n",
       "      <td>NaN</td>\n",
       "      <td>1994-01-05T07:47:19</td>\n",
       "      <td>1994-01-05T17:27:14</td>\n",
       "      <td>0.75</td>\n",
       "      <td>Snow, Rain, Overcast</td>\n",
       "      <td>Cloudy skies throughout the day with late afte...</td>\n",
       "      <td>rain</td>\n",
       "      <td>47111099999,47112099999,47120099999,4711009999...</td>\n",
       "    </tr>\n",
       "  </tbody>\n",
       "</table>\n",
       "<p>5 rows × 33 columns</p>\n",
       "</div>"
      ],
      "text/plain": [
       "    name    datetime  tempmax  tempmin  temp  feelslikemax  feelslikemin  \\\n",
       "0  seoul  1994-01-01     35.2     16.4  26.3          33.4          13.0   \n",
       "1  seoul  1994-01-02     43.0     31.5  36.2          39.4          26.7   \n",
       "2  seoul  1994-01-03     47.9     30.9  38.0          44.7          24.5   \n",
       "3  seoul  1994-01-04     38.8     22.1  30.1          32.0          18.4   \n",
       "4  seoul  1994-01-05     40.0     24.0  33.1          40.0          18.5   \n",
       "\n",
       "   feelslike   dew  humidity  ...  solarenergy  uvindex  severerisk  \\\n",
       "0       24.3  15.5      65.9  ...          NaN      NaN         NaN   \n",
       "1       32.6  27.9      72.1  ...          NaN      NaN         NaN   \n",
       "2       35.4  27.3      68.1  ...          NaN      NaN         NaN   \n",
       "3       26.3  13.6      51.2  ...          NaN      NaN         NaN   \n",
       "4       31.0  21.7      63.9  ...          NaN      NaN         NaN   \n",
       "\n",
       "               sunrise               sunset  moonphase            conditions  \\\n",
       "0  1994-01-01T07:46:54  1994-01-01T17:23:56       0.61      Partially cloudy   \n",
       "1  1994-01-02T07:47:03  1994-01-02T17:24:44       0.65      Partially cloudy   \n",
       "2  1994-01-03T07:47:11  1994-01-03T17:25:33       0.68      Partially cloudy   \n",
       "3  1994-01-04T07:47:16  1994-01-04T17:26:23       0.72                 Clear   \n",
       "4  1994-01-05T07:47:19  1994-01-05T17:27:14       0.75  Snow, Rain, Overcast   \n",
       "\n",
       "                                         description               icon  \\\n",
       "0                  Partly cloudy throughout the day.  partly-cloudy-day   \n",
       "1                  Partly cloudy throughout the day.  partly-cloudy-day   \n",
       "2                  Partly cloudy throughout the day.  partly-cloudy-day   \n",
       "3               Clear conditions throughout the day.          clear-day   \n",
       "4  Cloudy skies throughout the day with late afte...               rain   \n",
       "\n",
       "                                            stations  \n",
       "0  47111099999,47112099999,47120099999,4711009999...  \n",
       "1  47111099999,47112099999,47120099999,4711009999...  \n",
       "2  47111099999,47112099999,47120099999,4711009999...  \n",
       "3  47111099999,47112099999,47120099999,4711009999...  \n",
       "4  47111099999,47112099999,47120099999,4711009999...  \n",
       "\n",
       "[5 rows x 33 columns]"
      ]
     },
     "execution_count": 485,
     "metadata": {},
     "output_type": "execute_result"
    }
   ],
   "source": [
    "inprocess_df_wd.head(5)"
   ]
  },
  {
   "cell_type": "markdown",
   "metadata": {
    "id": "hoUjq1tPzz7P"
   },
   "source": [
    "#### Dataset 2\n",
    "\n",
    "Type: *FILL IN* (e.g., CSV File.)\n",
    "\n",
    "Method: *FILL IN* (e.g., The data was gathered using the \"API\" method from Y source.)\n",
    "\n",
    "Dataset variables:\n",
    "\n",
    "*   *Variable 1 FILL IN* (e.g., H_MEAN: Mean hourly wage)\n",
    "*   *Variable 2 FILL IN*"
   ]
  },
  {
   "cell_type": "code",
   "execution_count": 486,
   "metadata": {
    "id": "6zT0QxRyYmm7"
   },
   "outputs": [
    {
     "data": {
      "text/html": [
       "<div>\n",
       "<style scoped>\n",
       "    .dataframe tbody tr th:only-of-type {\n",
       "        vertical-align: middle;\n",
       "    }\n",
       "\n",
       "    .dataframe tbody tr th {\n",
       "        vertical-align: top;\n",
       "    }\n",
       "\n",
       "    .dataframe thead th {\n",
       "        text-align: right;\n",
       "    }\n",
       "</style>\n",
       "<table border=\"1\" class=\"dataframe\">\n",
       "  <thead>\n",
       "    <tr style=\"text-align: right;\">\n",
       "      <th></th>\n",
       "      <th>dt</th>\n",
       "      <th>loc</th>\n",
       "      <th>lat</th>\n",
       "      <th>long</th>\n",
       "      <th>so2</th>\n",
       "      <th>no2</th>\n",
       "      <th>co</th>\n",
       "      <th>o3</th>\n",
       "      <th>pm10</th>\n",
       "      <th>pm2.5</th>\n",
       "    </tr>\n",
       "  </thead>\n",
       "  <tbody>\n",
       "    <tr>\n",
       "      <th>0</th>\n",
       "      <td>1988010100</td>\n",
       "      <td>103</td>\n",
       "      <td>37.540037</td>\n",
       "      <td>127.002661</td>\n",
       "      <td>NaN</td>\n",
       "      <td>0.007</td>\n",
       "      <td>10.3</td>\n",
       "      <td>0.000</td>\n",
       "      <td>NaN</td>\n",
       "      <td>NaN</td>\n",
       "    </tr>\n",
       "    <tr>\n",
       "      <th>1</th>\n",
       "      <td>1988010100</td>\n",
       "      <td>105</td>\n",
       "      <td>37.593730</td>\n",
       "      <td>126.947561</td>\n",
       "      <td>0.340</td>\n",
       "      <td>0.055</td>\n",
       "      <td>12.6</td>\n",
       "      <td>0.043</td>\n",
       "      <td>NaN</td>\n",
       "      <td>NaN</td>\n",
       "    </tr>\n",
       "    <tr>\n",
       "      <th>2</th>\n",
       "      <td>1988010100</td>\n",
       "      <td>107</td>\n",
       "      <td>37.542043</td>\n",
       "      <td>127.047497</td>\n",
       "      <td>0.399</td>\n",
       "      <td>0.046</td>\n",
       "      <td>13.4</td>\n",
       "      <td>NaN</td>\n",
       "      <td>NaN</td>\n",
       "      <td>NaN</td>\n",
       "    </tr>\n",
       "    <tr>\n",
       "      <th>3</th>\n",
       "      <td>1988010100</td>\n",
       "      <td>108</td>\n",
       "      <td>37.547185</td>\n",
       "      <td>127.090304</td>\n",
       "      <td>0.261</td>\n",
       "      <td>0.034</td>\n",
       "      <td>5.4</td>\n",
       "      <td>0.000</td>\n",
       "      <td>NaN</td>\n",
       "      <td>NaN</td>\n",
       "    </tr>\n",
       "    <tr>\n",
       "      <th>4</th>\n",
       "      <td>1988010100</td>\n",
       "      <td>113</td>\n",
       "      <td>37.654140</td>\n",
       "      <td>127.026801</td>\n",
       "      <td>0.443</td>\n",
       "      <td>0.039</td>\n",
       "      <td>14.6</td>\n",
       "      <td>0.000</td>\n",
       "      <td>NaN</td>\n",
       "      <td>NaN</td>\n",
       "    </tr>\n",
       "  </tbody>\n",
       "</table>\n",
       "</div>"
      ],
      "text/plain": [
       "           dt  loc        lat        long    so2    no2    co     o3  pm10  \\\n",
       "0  1988010100  103  37.540037  127.002661    NaN  0.007  10.3  0.000   NaN   \n",
       "1  1988010100  105  37.593730  126.947561  0.340  0.055  12.6  0.043   NaN   \n",
       "2  1988010100  107  37.542043  127.047497  0.399  0.046  13.4    NaN   NaN   \n",
       "3  1988010100  108  37.547185  127.090304  0.261  0.034   5.4  0.000   NaN   \n",
       "4  1988010100  113  37.654140  127.026801  0.443  0.039  14.6  0.000   NaN   \n",
       "\n",
       "   pm2.5  \n",
       "0    NaN  \n",
       "1    NaN  \n",
       "2    NaN  \n",
       "3    NaN  \n",
       "4    NaN  "
      ]
     },
     "execution_count": 486,
     "metadata": {},
     "output_type": "execute_result"
    }
   ],
   "source": [
    "#FILL IN 2nd data gathering and loading method\n",
    "\n",
    "\n",
    "############################### Second Dataset ######################\n",
    "### Air Pollution Dataset\n",
    "\n",
    "raw_df_pd = pd.read_csv('seoul_air_1988_2021.csv')\n",
    "raw_df_pd.head(5)\n"
   ]
  },
  {
   "cell_type": "markdown",
   "metadata": {},
   "source": [
    "Optional data storing step: You may save your raw dataset files to the local data store before moving to the next step."
   ]
  },
  {
   "cell_type": "code",
   "execution_count": 487,
   "metadata": {},
   "outputs": [],
   "source": [
    "#Optional: store the raw data in your local data store"
   ]
  },
  {
   "cell_type": "code",
   "execution_count": 488,
   "metadata": {},
   "outputs": [],
   "source": [
    "inprocess_df_pd=raw_df_pd"
   ]
  },
  {
   "cell_type": "markdown",
   "metadata": {
    "id": "QwSWIVmotLgV"
   },
   "source": [
    "## 2. Assess data\n",
    "\n",
    "Assess the data according to data quality and tidiness metrics using the report below.\n",
    "\n",
    "List **two** data quality issues and **two** tidiness issues. Assess each data issue visually **and** programmatically, then briefly describe the issue you find.  **Make sure you include justifications for the methods you use for the assessment.**"
   ]
  },
  {
   "cell_type": "markdown",
   "metadata": {
    "id": "adaK2iPNzVu4"
   },
   "source": [
    "### Quality Issue 1:"
   ]
  },
  {
   "cell_type": "code",
   "execution_count": 489,
   "metadata": {
    "id": "SpW59kh-zl8d"
   },
   "outputs": [
    {
     "data": {
      "text/html": [
       "<div>\n",
       "<style scoped>\n",
       "    .dataframe tbody tr th:only-of-type {\n",
       "        vertical-align: middle;\n",
       "    }\n",
       "\n",
       "    .dataframe tbody tr th {\n",
       "        vertical-align: top;\n",
       "    }\n",
       "\n",
       "    .dataframe thead th {\n",
       "        text-align: right;\n",
       "    }\n",
       "</style>\n",
       "<table border=\"1\" class=\"dataframe\">\n",
       "  <thead>\n",
       "    <tr style=\"text-align: right;\">\n",
       "      <th></th>\n",
       "      <th>name</th>\n",
       "      <th>datetime</th>\n",
       "      <th>tempmax</th>\n",
       "      <th>tempmin</th>\n",
       "      <th>temp</th>\n",
       "      <th>feelslikemax</th>\n",
       "      <th>feelslikemin</th>\n",
       "      <th>feelslike</th>\n",
       "      <th>dew</th>\n",
       "      <th>humidity</th>\n",
       "      <th>...</th>\n",
       "      <th>solarenergy</th>\n",
       "      <th>uvindex</th>\n",
       "      <th>severerisk</th>\n",
       "      <th>sunrise</th>\n",
       "      <th>sunset</th>\n",
       "      <th>moonphase</th>\n",
       "      <th>conditions</th>\n",
       "      <th>description</th>\n",
       "      <th>icon</th>\n",
       "      <th>stations</th>\n",
       "    </tr>\n",
       "  </thead>\n",
       "  <tbody>\n",
       "    <tr>\n",
       "      <th>0</th>\n",
       "      <td>seoul</td>\n",
       "      <td>1994-01-01</td>\n",
       "      <td>35.2</td>\n",
       "      <td>16.4</td>\n",
       "      <td>26.3</td>\n",
       "      <td>33.4</td>\n",
       "      <td>13.0</td>\n",
       "      <td>24.3</td>\n",
       "      <td>15.5</td>\n",
       "      <td>65.9</td>\n",
       "      <td>...</td>\n",
       "      <td>NaN</td>\n",
       "      <td>NaN</td>\n",
       "      <td>NaN</td>\n",
       "      <td>1994-01-01T07:46:54</td>\n",
       "      <td>1994-01-01T17:23:56</td>\n",
       "      <td>0.61</td>\n",
       "      <td>Partially cloudy</td>\n",
       "      <td>Partly cloudy throughout the day.</td>\n",
       "      <td>partly-cloudy-day</td>\n",
       "      <td>47111099999,47112099999,47120099999,4711009999...</td>\n",
       "    </tr>\n",
       "    <tr>\n",
       "      <th>1</th>\n",
       "      <td>seoul</td>\n",
       "      <td>1994-01-02</td>\n",
       "      <td>43.0</td>\n",
       "      <td>31.5</td>\n",
       "      <td>36.2</td>\n",
       "      <td>39.4</td>\n",
       "      <td>26.7</td>\n",
       "      <td>32.6</td>\n",
       "      <td>27.9</td>\n",
       "      <td>72.1</td>\n",
       "      <td>...</td>\n",
       "      <td>NaN</td>\n",
       "      <td>NaN</td>\n",
       "      <td>NaN</td>\n",
       "      <td>1994-01-02T07:47:03</td>\n",
       "      <td>1994-01-02T17:24:44</td>\n",
       "      <td>0.65</td>\n",
       "      <td>Partially cloudy</td>\n",
       "      <td>Partly cloudy throughout the day.</td>\n",
       "      <td>partly-cloudy-day</td>\n",
       "      <td>47111099999,47112099999,47120099999,4711009999...</td>\n",
       "    </tr>\n",
       "    <tr>\n",
       "      <th>2</th>\n",
       "      <td>seoul</td>\n",
       "      <td>1994-01-03</td>\n",
       "      <td>47.9</td>\n",
       "      <td>30.9</td>\n",
       "      <td>38.0</td>\n",
       "      <td>44.7</td>\n",
       "      <td>24.5</td>\n",
       "      <td>35.4</td>\n",
       "      <td>27.3</td>\n",
       "      <td>68.1</td>\n",
       "      <td>...</td>\n",
       "      <td>NaN</td>\n",
       "      <td>NaN</td>\n",
       "      <td>NaN</td>\n",
       "      <td>1994-01-03T07:47:11</td>\n",
       "      <td>1994-01-03T17:25:33</td>\n",
       "      <td>0.68</td>\n",
       "      <td>Partially cloudy</td>\n",
       "      <td>Partly cloudy throughout the day.</td>\n",
       "      <td>partly-cloudy-day</td>\n",
       "      <td>47111099999,47112099999,47120099999,4711009999...</td>\n",
       "    </tr>\n",
       "    <tr>\n",
       "      <th>3</th>\n",
       "      <td>seoul</td>\n",
       "      <td>1994-01-04</td>\n",
       "      <td>38.8</td>\n",
       "      <td>22.1</td>\n",
       "      <td>30.1</td>\n",
       "      <td>32.0</td>\n",
       "      <td>18.4</td>\n",
       "      <td>26.3</td>\n",
       "      <td>13.6</td>\n",
       "      <td>51.2</td>\n",
       "      <td>...</td>\n",
       "      <td>NaN</td>\n",
       "      <td>NaN</td>\n",
       "      <td>NaN</td>\n",
       "      <td>1994-01-04T07:47:16</td>\n",
       "      <td>1994-01-04T17:26:23</td>\n",
       "      <td>0.72</td>\n",
       "      <td>Clear</td>\n",
       "      <td>Clear conditions throughout the day.</td>\n",
       "      <td>clear-day</td>\n",
       "      <td>47111099999,47112099999,47120099999,4711009999...</td>\n",
       "    </tr>\n",
       "    <tr>\n",
       "      <th>4</th>\n",
       "      <td>seoul</td>\n",
       "      <td>1994-01-05</td>\n",
       "      <td>40.0</td>\n",
       "      <td>24.0</td>\n",
       "      <td>33.1</td>\n",
       "      <td>40.0</td>\n",
       "      <td>18.5</td>\n",
       "      <td>31.0</td>\n",
       "      <td>21.7</td>\n",
       "      <td>63.9</td>\n",
       "      <td>...</td>\n",
       "      <td>NaN</td>\n",
       "      <td>NaN</td>\n",
       "      <td>NaN</td>\n",
       "      <td>1994-01-05T07:47:19</td>\n",
       "      <td>1994-01-05T17:27:14</td>\n",
       "      <td>0.75</td>\n",
       "      <td>Snow, Rain, Overcast</td>\n",
       "      <td>Cloudy skies throughout the day with late afte...</td>\n",
       "      <td>rain</td>\n",
       "      <td>47111099999,47112099999,47120099999,4711009999...</td>\n",
       "    </tr>\n",
       "  </tbody>\n",
       "</table>\n",
       "<p>5 rows × 33 columns</p>\n",
       "</div>"
      ],
      "text/plain": [
       "    name    datetime  tempmax  tempmin  temp  feelslikemax  feelslikemin  \\\n",
       "0  seoul  1994-01-01     35.2     16.4  26.3          33.4          13.0   \n",
       "1  seoul  1994-01-02     43.0     31.5  36.2          39.4          26.7   \n",
       "2  seoul  1994-01-03     47.9     30.9  38.0          44.7          24.5   \n",
       "3  seoul  1994-01-04     38.8     22.1  30.1          32.0          18.4   \n",
       "4  seoul  1994-01-05     40.0     24.0  33.1          40.0          18.5   \n",
       "\n",
       "   feelslike   dew  humidity  ...  solarenergy  uvindex  severerisk  \\\n",
       "0       24.3  15.5      65.9  ...          NaN      NaN         NaN   \n",
       "1       32.6  27.9      72.1  ...          NaN      NaN         NaN   \n",
       "2       35.4  27.3      68.1  ...          NaN      NaN         NaN   \n",
       "3       26.3  13.6      51.2  ...          NaN      NaN         NaN   \n",
       "4       31.0  21.7      63.9  ...          NaN      NaN         NaN   \n",
       "\n",
       "               sunrise               sunset  moonphase            conditions  \\\n",
       "0  1994-01-01T07:46:54  1994-01-01T17:23:56       0.61      Partially cloudy   \n",
       "1  1994-01-02T07:47:03  1994-01-02T17:24:44       0.65      Partially cloudy   \n",
       "2  1994-01-03T07:47:11  1994-01-03T17:25:33       0.68      Partially cloudy   \n",
       "3  1994-01-04T07:47:16  1994-01-04T17:26:23       0.72                 Clear   \n",
       "4  1994-01-05T07:47:19  1994-01-05T17:27:14       0.75  Snow, Rain, Overcast   \n",
       "\n",
       "                                         description               icon  \\\n",
       "0                  Partly cloudy throughout the day.  partly-cloudy-day   \n",
       "1                  Partly cloudy throughout the day.  partly-cloudy-day   \n",
       "2                  Partly cloudy throughout the day.  partly-cloudy-day   \n",
       "3               Clear conditions throughout the day.          clear-day   \n",
       "4  Cloudy skies throughout the day with late afte...               rain   \n",
       "\n",
       "                                            stations  \n",
       "0  47111099999,47112099999,47120099999,4711009999...  \n",
       "1  47111099999,47112099999,47120099999,4711009999...  \n",
       "2  47111099999,47112099999,47120099999,4711009999...  \n",
       "3  47111099999,47112099999,47120099999,4711009999...  \n",
       "4  47111099999,47112099999,47120099999,4711009999...  \n",
       "\n",
       "[5 rows x 33 columns]"
      ]
     },
     "execution_count": 489,
     "metadata": {},
     "output_type": "execute_result"
    }
   ],
   "source": [
    "#FILL IN - Inspecting the dataframe visually\n",
    "\n",
    "# Weather Dataset\n",
    "# you can see the columns have missing values after the execution of above command\n",
    "\n",
    "inprocess_df_wd.head(5)"
   ]
  },
  {
   "cell_type": "code",
   "execution_count": 490,
   "metadata": {
    "id": "-qfcocStzsKg"
   },
   "outputs": [
    {
     "data": {
      "text/plain": [
       "name                    0\n",
       "datetime                0\n",
       "tempmax                 0\n",
       "tempmin                 0\n",
       "temp                    0\n",
       "feelslikemax            0\n",
       "feelslikemin            0\n",
       "feelslike               0\n",
       "dew                     0\n",
       "humidity                0\n",
       "precip                  0\n",
       "precipprob              0\n",
       "precipcover             0\n",
       "preciptype           6923\n",
       "snow                 2926\n",
       "snowdepth            2717\n",
       "windgust             7325\n",
       "windspeed               0\n",
       "winddir                 0\n",
       "sealevelpressure        0\n",
       "cloudcover              0\n",
       "visibility              0\n",
       "solarradiation       5851\n",
       "solarenergy          5851\n",
       "uvindex              5851\n",
       "severerisk          10250\n",
       "sunrise                 0\n",
       "sunset                  0\n",
       "moonphase               0\n",
       "conditions              0\n",
       "description             0\n",
       "icon                    0\n",
       "stations                0\n",
       "dtype: int64"
      ]
     },
     "execution_count": 490,
     "metadata": {},
     "output_type": "execute_result"
    }
   ],
   "source": [
    "#FILL IN - Inspecting the dataframe programmatically\n",
    "# After executing the following command. you will see the total number of null values in each column\n",
    "\n",
    "inprocess_df_wd.isnull().sum()"
   ]
  },
  {
   "cell_type": "markdown",
   "metadata": {},
   "source": [
    "Issue and justification: *FILL IN*"
   ]
  },
  {
   "cell_type": "markdown",
   "metadata": {
    "id": "8Be77N4I1AmE"
   },
   "source": [
    "### Quality Issue 2:"
   ]
  },
  {
   "cell_type": "code",
   "execution_count": 491,
   "metadata": {
    "id": "iMhHyiyLM2I3"
   },
   "outputs": [
    {
     "data": {
      "text/html": [
       "<div>\n",
       "<style scoped>\n",
       "    .dataframe tbody tr th:only-of-type {\n",
       "        vertical-align: middle;\n",
       "    }\n",
       "\n",
       "    .dataframe tbody tr th {\n",
       "        vertical-align: top;\n",
       "    }\n",
       "\n",
       "    .dataframe thead th {\n",
       "        text-align: right;\n",
       "    }\n",
       "</style>\n",
       "<table border=\"1\" class=\"dataframe\">\n",
       "  <thead>\n",
       "    <tr style=\"text-align: right;\">\n",
       "      <th></th>\n",
       "      <th>name</th>\n",
       "      <th>datetime</th>\n",
       "      <th>tempmax</th>\n",
       "      <th>tempmin</th>\n",
       "      <th>temp</th>\n",
       "      <th>feelslikemax</th>\n",
       "      <th>feelslikemin</th>\n",
       "      <th>feelslike</th>\n",
       "      <th>dew</th>\n",
       "      <th>humidity</th>\n",
       "      <th>...</th>\n",
       "      <th>solarenergy</th>\n",
       "      <th>uvindex</th>\n",
       "      <th>severerisk</th>\n",
       "      <th>sunrise</th>\n",
       "      <th>sunset</th>\n",
       "      <th>moonphase</th>\n",
       "      <th>conditions</th>\n",
       "      <th>description</th>\n",
       "      <th>icon</th>\n",
       "      <th>stations</th>\n",
       "    </tr>\n",
       "  </thead>\n",
       "  <tbody>\n",
       "    <tr>\n",
       "      <th>0</th>\n",
       "      <td>seoul</td>\n",
       "      <td>1994-01-01</td>\n",
       "      <td>35.2</td>\n",
       "      <td>16.4</td>\n",
       "      <td>26.3</td>\n",
       "      <td>33.4</td>\n",
       "      <td>13.0</td>\n",
       "      <td>24.3</td>\n",
       "      <td>15.5</td>\n",
       "      <td>65.9</td>\n",
       "      <td>...</td>\n",
       "      <td>NaN</td>\n",
       "      <td>NaN</td>\n",
       "      <td>NaN</td>\n",
       "      <td>1994-01-01T07:46:54</td>\n",
       "      <td>1994-01-01T17:23:56</td>\n",
       "      <td>0.61</td>\n",
       "      <td>Partially cloudy</td>\n",
       "      <td>Partly cloudy throughout the day.</td>\n",
       "      <td>partly-cloudy-day</td>\n",
       "      <td>47111099999,47112099999,47120099999,4711009999...</td>\n",
       "    </tr>\n",
       "  </tbody>\n",
       "</table>\n",
       "<p>1 rows × 33 columns</p>\n",
       "</div>"
      ],
      "text/plain": [
       "    name    datetime  tempmax  tempmin  temp  feelslikemax  feelslikemin  \\\n",
       "0  seoul  1994-01-01     35.2     16.4  26.3          33.4          13.0   \n",
       "\n",
       "   feelslike   dew  humidity  ...  solarenergy  uvindex  severerisk  \\\n",
       "0       24.3  15.5      65.9  ...          NaN      NaN         NaN   \n",
       "\n",
       "               sunrise               sunset  moonphase        conditions  \\\n",
       "0  1994-01-01T07:46:54  1994-01-01T17:23:56       0.61  Partially cloudy   \n",
       "\n",
       "                         description               icon  \\\n",
       "0  Partly cloudy throughout the day.  partly-cloudy-day   \n",
       "\n",
       "                                            stations  \n",
       "0  47111099999,47112099999,47120099999,4711009999...  \n",
       "\n",
       "[1 rows x 33 columns]"
      ]
     },
     "execution_count": 491,
     "metadata": {},
     "output_type": "execute_result"
    }
   ],
   "source": [
    "#FILL IN - Inspecting the dataframe visually\n",
    "# dupilcate values\n",
    "\n",
    "inprocess_df_wd[\n",
    "    (inprocess_df_wd['tempmax'].round(1) == 35.2) & \n",
    "    (inprocess_df_wd['tempmin'].round(1) == 16.4) & \n",
    "    (inprocess_df_wd['temp'].round(1) == 26.3)\n",
    "]\n"
   ]
  },
  {
   "cell_type": "code",
   "execution_count": 492,
   "metadata": {
    "id": "bnviRCUI-bb7"
   },
   "outputs": [
    {
     "data": {
      "text/plain": [
       "3"
      ]
     },
     "execution_count": 492,
     "metadata": {},
     "output_type": "execute_result"
    }
   ],
   "source": [
    "#FILL IN - Inspecting the dataframe programmatically\n",
    "\n",
    "inprocess_df_wd.duplicated().sum()"
   ]
  },
  {
   "cell_type": "markdown",
   "metadata": {},
   "source": [
    "Issue and justification: *FILL IN*"
   ]
  },
  {
   "cell_type": "markdown",
   "metadata": {
    "id": "lXhGiYyiwwKN"
   },
   "source": [
    "### Tidiness Issue 1:"
   ]
  },
  {
   "cell_type": "code",
   "execution_count": 493,
   "metadata": {
    "id": "fleC5rORI0Xl"
   },
   "outputs": [
    {
     "data": {
      "text/html": [
       "<div>\n",
       "<style scoped>\n",
       "    .dataframe tbody tr th:only-of-type {\n",
       "        vertical-align: middle;\n",
       "    }\n",
       "\n",
       "    .dataframe tbody tr th {\n",
       "        vertical-align: top;\n",
       "    }\n",
       "\n",
       "    .dataframe thead th {\n",
       "        text-align: right;\n",
       "    }\n",
       "</style>\n",
       "<table border=\"1\" class=\"dataframe\">\n",
       "  <thead>\n",
       "    <tr style=\"text-align: right;\">\n",
       "      <th></th>\n",
       "      <th>name</th>\n",
       "      <th>datetime</th>\n",
       "      <th>tempmax</th>\n",
       "      <th>tempmin</th>\n",
       "      <th>temp</th>\n",
       "      <th>feelslikemax</th>\n",
       "      <th>feelslikemin</th>\n",
       "      <th>feelslike</th>\n",
       "      <th>dew</th>\n",
       "      <th>humidity</th>\n",
       "      <th>...</th>\n",
       "      <th>solarenergy</th>\n",
       "      <th>uvindex</th>\n",
       "      <th>severerisk</th>\n",
       "      <th>sunrise</th>\n",
       "      <th>sunset</th>\n",
       "      <th>moonphase</th>\n",
       "      <th>conditions</th>\n",
       "      <th>description</th>\n",
       "      <th>icon</th>\n",
       "      <th>stations</th>\n",
       "    </tr>\n",
       "  </thead>\n",
       "  <tbody>\n",
       "    <tr>\n",
       "      <th>0</th>\n",
       "      <td>seoul</td>\n",
       "      <td>1994-01-01</td>\n",
       "      <td>35.2</td>\n",
       "      <td>16.4</td>\n",
       "      <td>26.3</td>\n",
       "      <td>33.4</td>\n",
       "      <td>13.0</td>\n",
       "      <td>24.3</td>\n",
       "      <td>15.5</td>\n",
       "      <td>65.9</td>\n",
       "      <td>...</td>\n",
       "      <td>NaN</td>\n",
       "      <td>NaN</td>\n",
       "      <td>NaN</td>\n",
       "      <td>1994-01-01T07:46:54</td>\n",
       "      <td>1994-01-01T17:23:56</td>\n",
       "      <td>0.61</td>\n",
       "      <td>Partially cloudy</td>\n",
       "      <td>Partly cloudy throughout the day.</td>\n",
       "      <td>partly-cloudy-day</td>\n",
       "      <td>47111099999,47112099999,47120099999,4711009999...</td>\n",
       "    </tr>\n",
       "    <tr>\n",
       "      <th>1</th>\n",
       "      <td>seoul</td>\n",
       "      <td>1994-01-02</td>\n",
       "      <td>43.0</td>\n",
       "      <td>31.5</td>\n",
       "      <td>36.2</td>\n",
       "      <td>39.4</td>\n",
       "      <td>26.7</td>\n",
       "      <td>32.6</td>\n",
       "      <td>27.9</td>\n",
       "      <td>72.1</td>\n",
       "      <td>...</td>\n",
       "      <td>NaN</td>\n",
       "      <td>NaN</td>\n",
       "      <td>NaN</td>\n",
       "      <td>1994-01-02T07:47:03</td>\n",
       "      <td>1994-01-02T17:24:44</td>\n",
       "      <td>0.65</td>\n",
       "      <td>Partially cloudy</td>\n",
       "      <td>Partly cloudy throughout the day.</td>\n",
       "      <td>partly-cloudy-day</td>\n",
       "      <td>47111099999,47112099999,47120099999,4711009999...</td>\n",
       "    </tr>\n",
       "    <tr>\n",
       "      <th>2</th>\n",
       "      <td>seoul</td>\n",
       "      <td>1994-01-03</td>\n",
       "      <td>47.9</td>\n",
       "      <td>30.9</td>\n",
       "      <td>38.0</td>\n",
       "      <td>44.7</td>\n",
       "      <td>24.5</td>\n",
       "      <td>35.4</td>\n",
       "      <td>27.3</td>\n",
       "      <td>68.1</td>\n",
       "      <td>...</td>\n",
       "      <td>NaN</td>\n",
       "      <td>NaN</td>\n",
       "      <td>NaN</td>\n",
       "      <td>1994-01-03T07:47:11</td>\n",
       "      <td>1994-01-03T17:25:33</td>\n",
       "      <td>0.68</td>\n",
       "      <td>Partially cloudy</td>\n",
       "      <td>Partly cloudy throughout the day.</td>\n",
       "      <td>partly-cloudy-day</td>\n",
       "      <td>47111099999,47112099999,47120099999,4711009999...</td>\n",
       "    </tr>\n",
       "    <tr>\n",
       "      <th>3</th>\n",
       "      <td>seoul</td>\n",
       "      <td>1994-01-04</td>\n",
       "      <td>38.8</td>\n",
       "      <td>22.1</td>\n",
       "      <td>30.1</td>\n",
       "      <td>32.0</td>\n",
       "      <td>18.4</td>\n",
       "      <td>26.3</td>\n",
       "      <td>13.6</td>\n",
       "      <td>51.2</td>\n",
       "      <td>...</td>\n",
       "      <td>NaN</td>\n",
       "      <td>NaN</td>\n",
       "      <td>NaN</td>\n",
       "      <td>1994-01-04T07:47:16</td>\n",
       "      <td>1994-01-04T17:26:23</td>\n",
       "      <td>0.72</td>\n",
       "      <td>Clear</td>\n",
       "      <td>Clear conditions throughout the day.</td>\n",
       "      <td>clear-day</td>\n",
       "      <td>47111099999,47112099999,47120099999,4711009999...</td>\n",
       "    </tr>\n",
       "    <tr>\n",
       "      <th>4</th>\n",
       "      <td>seoul</td>\n",
       "      <td>1994-01-05</td>\n",
       "      <td>40.0</td>\n",
       "      <td>24.0</td>\n",
       "      <td>33.1</td>\n",
       "      <td>40.0</td>\n",
       "      <td>18.5</td>\n",
       "      <td>31.0</td>\n",
       "      <td>21.7</td>\n",
       "      <td>63.9</td>\n",
       "      <td>...</td>\n",
       "      <td>NaN</td>\n",
       "      <td>NaN</td>\n",
       "      <td>NaN</td>\n",
       "      <td>1994-01-05T07:47:19</td>\n",
       "      <td>1994-01-05T17:27:14</td>\n",
       "      <td>0.75</td>\n",
       "      <td>Snow, Rain, Overcast</td>\n",
       "      <td>Cloudy skies throughout the day with late afte...</td>\n",
       "      <td>rain</td>\n",
       "      <td>47111099999,47112099999,47120099999,4711009999...</td>\n",
       "    </tr>\n",
       "  </tbody>\n",
       "</table>\n",
       "<p>5 rows × 33 columns</p>\n",
       "</div>"
      ],
      "text/plain": [
       "    name    datetime  tempmax  tempmin  temp  feelslikemax  feelslikemin  \\\n",
       "0  seoul  1994-01-01     35.2     16.4  26.3          33.4          13.0   \n",
       "1  seoul  1994-01-02     43.0     31.5  36.2          39.4          26.7   \n",
       "2  seoul  1994-01-03     47.9     30.9  38.0          44.7          24.5   \n",
       "3  seoul  1994-01-04     38.8     22.1  30.1          32.0          18.4   \n",
       "4  seoul  1994-01-05     40.0     24.0  33.1          40.0          18.5   \n",
       "\n",
       "   feelslike   dew  humidity  ...  solarenergy  uvindex  severerisk  \\\n",
       "0       24.3  15.5      65.9  ...          NaN      NaN         NaN   \n",
       "1       32.6  27.9      72.1  ...          NaN      NaN         NaN   \n",
       "2       35.4  27.3      68.1  ...          NaN      NaN         NaN   \n",
       "3       26.3  13.6      51.2  ...          NaN      NaN         NaN   \n",
       "4       31.0  21.7      63.9  ...          NaN      NaN         NaN   \n",
       "\n",
       "               sunrise               sunset  moonphase            conditions  \\\n",
       "0  1994-01-01T07:46:54  1994-01-01T17:23:56       0.61      Partially cloudy   \n",
       "1  1994-01-02T07:47:03  1994-01-02T17:24:44       0.65      Partially cloudy   \n",
       "2  1994-01-03T07:47:11  1994-01-03T17:25:33       0.68      Partially cloudy   \n",
       "3  1994-01-04T07:47:16  1994-01-04T17:26:23       0.72                 Clear   \n",
       "4  1994-01-05T07:47:19  1994-01-05T17:27:14       0.75  Snow, Rain, Overcast   \n",
       "\n",
       "                                         description               icon  \\\n",
       "0                  Partly cloudy throughout the day.  partly-cloudy-day   \n",
       "1                  Partly cloudy throughout the day.  partly-cloudy-day   \n",
       "2                  Partly cloudy throughout the day.  partly-cloudy-day   \n",
       "3               Clear conditions throughout the day.          clear-day   \n",
       "4  Cloudy skies throughout the day with late afte...               rain   \n",
       "\n",
       "                                            stations  \n",
       "0  47111099999,47112099999,47120099999,4711009999...  \n",
       "1  47111099999,47112099999,47120099999,4711009999...  \n",
       "2  47111099999,47112099999,47120099999,4711009999...  \n",
       "3  47111099999,47112099999,47120099999,4711009999...  \n",
       "4  47111099999,47112099999,47120099999,4711009999...  \n",
       "\n",
       "[5 rows x 33 columns]"
      ]
     },
     "execution_count": 493,
     "metadata": {},
     "output_type": "execute_result"
    }
   ],
   "source": [
    "#FILL IN - Inspecting the dataframe visually\n",
    "# After the execution \n",
    "# you can see the multiple values stored  are stored in one column name station\n",
    "\n",
    "inprocess_df_wd.head(5)\n"
   ]
  },
  {
   "cell_type": "code",
   "execution_count": 494,
   "metadata": {
    "id": "BTuQw7Rbsio4"
   },
   "outputs": [
    {
     "data": {
      "text/plain": [
       "0        47111099999,47112099999,47120099999,4711009999...\n",
       "1        47111099999,47112099999,47120099999,4711009999...\n",
       "2        47111099999,47112099999,47120099999,4711009999...\n",
       "3        47111099999,47112099999,47120099999,4711009999...\n",
       "4        47111099999,47112099999,47120099999,4711009999...\n",
       "                               ...                        \n",
       "10967    47111099999,47098099999,47112099999,4711909999...\n",
       "10968    47111099999,47098099999,47112099999,4711909999...\n",
       "10969    47111099999,47098099999,47112099999,4711909999...\n",
       "10970    47111099999,47098099999,47112099999,4711909999...\n",
       "10971    47111099999,47098099999,47112099999,4711909999...\n",
       "Name: stations, Length: 10972, dtype: object"
      ]
     },
     "execution_count": 494,
     "metadata": {},
     "output_type": "execute_result"
    }
   ],
   "source": [
    "#FILL IN - Inspecting the dataframe programmatically\n",
    "inprocess_df_wd['stations']\n"
   ]
  },
  {
   "cell_type": "markdown",
   "metadata": {},
   "source": [
    "Issue and justification: *FILL IN*"
   ]
  },
  {
   "cell_type": "markdown",
   "metadata": {
    "id": "4ffMoRGSwzYj"
   },
   "source": [
    "### Tidiness Issue 2: "
   ]
  },
  {
   "cell_type": "code",
   "execution_count": 495,
   "metadata": {
    "id": "XUpeoqokw5Qt"
   },
   "outputs": [
    {
     "name": "stdout",
     "output_type": "stream",
     "text": [
      "<class 'pandas.core.frame.DataFrame'>\n",
      "RangeIndex: 10972 entries, 0 to 10971\n",
      "Data columns (total 33 columns):\n",
      " #   Column            Non-Null Count  Dtype  \n",
      "---  ------            --------------  -----  \n",
      " 0   name              10972 non-null  object \n",
      " 1   datetime          10972 non-null  object \n",
      " 2   tempmax           10972 non-null  float64\n",
      " 3   tempmin           10972 non-null  float64\n",
      " 4   temp              10972 non-null  float64\n",
      " 5   feelslikemax      10972 non-null  float64\n",
      " 6   feelslikemin      10972 non-null  float64\n",
      " 7   feelslike         10972 non-null  float64\n",
      " 8   dew               10972 non-null  float64\n",
      " 9   humidity          10972 non-null  float64\n",
      " 10  precip            10972 non-null  float64\n",
      " 11  precipprob        10972 non-null  int64  \n",
      " 12  precipcover       10972 non-null  float64\n",
      " 13  preciptype        4049 non-null   object \n",
      " 14  snow              8046 non-null   float64\n",
      " 15  snowdepth         8255 non-null   float64\n",
      " 16  windgust          3647 non-null   float64\n",
      " 17  windspeed         10972 non-null  float64\n",
      " 18  winddir           10972 non-null  float64\n",
      " 19  sealevelpressure  10972 non-null  float64\n",
      " 20  cloudcover        10972 non-null  float64\n",
      " 21  visibility        10972 non-null  float64\n",
      " 22  solarradiation    5121 non-null   float64\n",
      " 23  solarenergy       5121 non-null   float64\n",
      " 24  uvindex           5121 non-null   float64\n",
      " 25  severerisk        722 non-null    float64\n",
      " 26  sunrise           10972 non-null  object \n",
      " 27  sunset            10972 non-null  object \n",
      " 28  moonphase         10972 non-null  float64\n",
      " 29  conditions        10972 non-null  object \n",
      " 30  description       10972 non-null  object \n",
      " 31  icon              10972 non-null  object \n",
      " 32  stations          10972 non-null  object \n",
      "dtypes: float64(23), int64(1), object(9)\n",
      "memory usage: 2.8+ MB\n"
     ]
    }
   ],
   "source": [
    "#FILL IN - Inspecting the dataframe visually\n",
    "# After the execution of  command , you will see the datatype of the columns are object instead of datatime\n",
    "\n",
    "inprocess_df_wd.info()"
   ]
  },
  {
   "cell_type": "code",
   "execution_count": 496,
   "metadata": {
    "id": "c8JK4DoXxtFA"
   },
   "outputs": [
    {
     "name": "stdout",
     "output_type": "stream",
     "text": [
      "object\n",
      "object\n",
      "object\n"
     ]
    }
   ],
   "source": [
    "#FILL IN - Inspecting the dataframe programmatically\n",
    "\n",
    "print(inprocess_df_wd['sunrise'].dtype)\n",
    "print(inprocess_df_wd['sunset'].dtype)\n",
    "print(inprocess_df_wd['datetime'].dtype)\n",
    "\n",
    "# After the execution of above command , you will see the datatype of the columns are object instead of datatime"
   ]
  },
  {
   "cell_type": "markdown",
   "metadata": {},
   "source": [
    "Issue and justification: *FILL IN*"
   ]
  },
  {
   "cell_type": "markdown",
   "metadata": {
    "id": "D6gmLnBttpCh"
   },
   "source": [
    "## 3. Clean data\n",
    "Clean the data to solve the 4 issues corresponding to data quality and tidiness found in the assessing step. **Make sure you include justifications for your cleaning decisions.**\n",
    "\n",
    "After the cleaning for each issue, please use **either** the visually or programatical method to validate the cleaning was succesful.\n",
    "\n",
    "At this stage, you are also expected to remove variables that are unnecessary for your analysis and combine your datasets. Depending on your datasets, you may choose to perform variable combination and elimination before or after the cleaning stage. Your dataset must have **at least** 4 variables after combining the data."
   ]
  },
  {
   "cell_type": "code",
   "execution_count": 497,
   "metadata": {},
   "outputs": [
    {
     "name": "stdout",
     "output_type": "stream",
     "text": [
      "<class 'pandas.core.frame.DataFrame'>\n",
      "RangeIndex: 10972 entries, 0 to 10971\n",
      "Data columns (total 33 columns):\n",
      " #   Column            Non-Null Count  Dtype  \n",
      "---  ------            --------------  -----  \n",
      " 0   name              10972 non-null  object \n",
      " 1   datetime          10972 non-null  object \n",
      " 2   tempmax           10972 non-null  float64\n",
      " 3   tempmin           10972 non-null  float64\n",
      " 4   temp              10972 non-null  float64\n",
      " 5   feelslikemax      10972 non-null  float64\n",
      " 6   feelslikemin      10972 non-null  float64\n",
      " 7   feelslike         10972 non-null  float64\n",
      " 8   dew               10972 non-null  float64\n",
      " 9   humidity          10972 non-null  float64\n",
      " 10  precip            10972 non-null  float64\n",
      " 11  precipprob        10972 non-null  int64  \n",
      " 12  precipcover       10972 non-null  float64\n",
      " 13  preciptype        4049 non-null   object \n",
      " 14  snow              8046 non-null   float64\n",
      " 15  snowdepth         8255 non-null   float64\n",
      " 16  windgust          3647 non-null   float64\n",
      " 17  windspeed         10972 non-null  float64\n",
      " 18  winddir           10972 non-null  float64\n",
      " 19  sealevelpressure  10972 non-null  float64\n",
      " 20  cloudcover        10972 non-null  float64\n",
      " 21  visibility        10972 non-null  float64\n",
      " 22  solarradiation    5121 non-null   float64\n",
      " 23  solarenergy       5121 non-null   float64\n",
      " 24  uvindex           5121 non-null   float64\n",
      " 25  severerisk        722 non-null    float64\n",
      " 26  sunrise           10972 non-null  object \n",
      " 27  sunset            10972 non-null  object \n",
      " 28  moonphase         10972 non-null  float64\n",
      " 29  conditions        10972 non-null  object \n",
      " 30  description       10972 non-null  object \n",
      " 31  icon              10972 non-null  object \n",
      " 32  stations          10972 non-null  object \n",
      "dtypes: float64(23), int64(1), object(9)\n",
      "memory usage: 2.8+ MB\n"
     ]
    }
   ],
   "source": [
    "# FILL IN - Make copies of the datasets to ensure the raw dataframes \n",
    "# are not impacted\n",
    "\n",
    "cleaning_df_wd = inprocess_df_wd\n",
    "cleaning_df_wd.info()"
   ]
  },
  {
   "cell_type": "markdown",
   "metadata": {
    "id": "FmFhN52Yyn3l"
   },
   "source": [
    "### **Quality Issue 1: FILL IN**"
   ]
  },
  {
   "cell_type": "code",
   "execution_count": 498,
   "metadata": {
    "id": "9UejDWrNMW4a"
   },
   "outputs": [
    {
     "name": "stdout",
     "output_type": "stream",
     "text": [
      "<class 'pandas.core.frame.DataFrame'>\n",
      "RangeIndex: 10972 entries, 0 to 10971\n",
      "Data columns (total 25 columns):\n",
      " #   Column            Non-Null Count  Dtype  \n",
      "---  ------            --------------  -----  \n",
      " 0   name              10972 non-null  object \n",
      " 1   datetime          10972 non-null  object \n",
      " 2   tempmax           10972 non-null  float64\n",
      " 3   tempmin           10972 non-null  float64\n",
      " 4   temp              10972 non-null  float64\n",
      " 5   feelslikemax      10972 non-null  float64\n",
      " 6   feelslikemin      10972 non-null  float64\n",
      " 7   feelslike         10972 non-null  float64\n",
      " 8   dew               10972 non-null  float64\n",
      " 9   humidity          10972 non-null  float64\n",
      " 10  precip            10972 non-null  float64\n",
      " 11  precipprob        10972 non-null  int64  \n",
      " 12  precipcover       10972 non-null  float64\n",
      " 13  windspeed         10972 non-null  float64\n",
      " 14  winddir           10972 non-null  float64\n",
      " 15  sealevelpressure  10972 non-null  float64\n",
      " 16  cloudcover        10972 non-null  float64\n",
      " 17  visibility        10972 non-null  float64\n",
      " 18  sunrise           10972 non-null  object \n",
      " 19  sunset            10972 non-null  object \n",
      " 20  moonphase         10972 non-null  float64\n",
      " 21  conditions        10972 non-null  object \n",
      " 22  description       10972 non-null  object \n",
      " 23  icon              10972 non-null  object \n",
      " 24  stations          10972 non-null  object \n",
      "dtypes: float64(16), int64(1), object(8)\n",
      "memory usage: 2.1+ MB\n"
     ]
    }
   ],
   "source": [
    "# FILL IN - Apply the cleaning strategy\n",
    "# no need of following variables/columns  for analysis\n",
    "# Also the you can see the null values count\n",
    "\n",
    "# column name        null values count\n",
    "# preciptype           7395\n",
    "# snow                10965\n",
    "# snowdepth           10665\n",
    "# windgust            10965\n",
    "# solarradiation      10965\n",
    "# solarenergy         10965\n",
    "# uvindex             10965\n",
    "# severerisk          10965\n",
    "\n",
    "\n",
    "\n",
    "cleaning_df_wd.drop(['preciptype', 'snow' , 'snowdepth', 'windgust', 'solarradiation', 'solarenergy', 'uvindex' , 'severerisk' ] , axis=1 , inplace=True )\n",
    "cleaning_df_wd.info()\n",
    "\n"
   ]
  },
  {
   "cell_type": "code",
   "execution_count": 499,
   "metadata": {
    "id": "oUBee-LPytkv"
   },
   "outputs": [
    {
     "data": {
      "text/plain": [
       "name                0\n",
       "datetime            0\n",
       "tempmax             0\n",
       "tempmin             0\n",
       "temp                0\n",
       "feelslikemax        0\n",
       "feelslikemin        0\n",
       "feelslike           0\n",
       "dew                 0\n",
       "humidity            0\n",
       "precip              0\n",
       "precipprob          0\n",
       "precipcover         0\n",
       "windspeed           0\n",
       "winddir             0\n",
       "sealevelpressure    0\n",
       "cloudcover          0\n",
       "visibility          0\n",
       "sunrise             0\n",
       "sunset              0\n",
       "moonphase           0\n",
       "conditions          0\n",
       "description         0\n",
       "icon                0\n",
       "stations            0\n",
       "dtype: int64"
      ]
     },
     "execution_count": 499,
     "metadata": {},
     "output_type": "execute_result"
    }
   ],
   "source": [
    "# FILL IN - Validate the cleaning was successful\n",
    "# now there is no missing values\n",
    "cleaning_df_wd.isna().sum()"
   ]
  },
  {
   "cell_type": "markdown",
   "metadata": {},
   "source": [
    "Justification: *FILL IN*"
   ]
  },
  {
   "cell_type": "markdown",
   "metadata": {
    "id": "n_DAUbJrymBL"
   },
   "source": [
    "### **Quality Issue 2: FILL IN**"
   ]
  },
  {
   "cell_type": "code",
   "execution_count": 500,
   "metadata": {
    "id": "5Yfb-Yu5MTuE"
   },
   "outputs": [
    {
     "name": "stdout",
     "output_type": "stream",
     "text": [
      "<class 'pandas.core.frame.DataFrame'>\n",
      "Index: 10968 entries, 0 to 10971\n",
      "Data columns (total 25 columns):\n",
      " #   Column            Non-Null Count  Dtype  \n",
      "---  ------            --------------  -----  \n",
      " 0   name              10968 non-null  object \n",
      " 1   datetime          10968 non-null  object \n",
      " 2   tempmax           10968 non-null  float64\n",
      " 3   tempmin           10968 non-null  float64\n",
      " 4   temp              10968 non-null  float64\n",
      " 5   feelslikemax      10968 non-null  float64\n",
      " 6   feelslikemin      10968 non-null  float64\n",
      " 7   feelslike         10968 non-null  float64\n",
      " 8   dew               10968 non-null  float64\n",
      " 9   humidity          10968 non-null  float64\n",
      " 10  precip            10968 non-null  float64\n",
      " 11  precipprob        10968 non-null  int64  \n",
      " 12  precipcover       10968 non-null  float64\n",
      " 13  windspeed         10968 non-null  float64\n",
      " 14  winddir           10968 non-null  float64\n",
      " 15  sealevelpressure  10968 non-null  float64\n",
      " 16  cloudcover        10968 non-null  float64\n",
      " 17  visibility        10968 non-null  float64\n",
      " 18  sunrise           10968 non-null  object \n",
      " 19  sunset            10968 non-null  object \n",
      " 20  moonphase         10968 non-null  float64\n",
      " 21  conditions        10968 non-null  object \n",
      " 22  description       10968 non-null  object \n",
      " 23  icon              10968 non-null  object \n",
      " 24  stations          10968 non-null  object \n",
      "dtypes: float64(16), int64(1), object(8)\n",
      "memory usage: 2.2+ MB\n"
     ]
    }
   ],
   "source": [
    "#FILL IN - Apply the cleaning strategy\n",
    "#  After the execution of following command , you can see the total number of duplicates\n",
    "\n",
    "cleaning_df_wd.drop_duplicates(inplace=True)\n",
    "cleaning_df_wd.info()"
   ]
  },
  {
   "cell_type": "code",
   "execution_count": 501,
   "metadata": {
    "id": "ionB2sRaMUmY"
   },
   "outputs": [
    {
     "data": {
      "text/plain": [
       "0"
      ]
     },
     "execution_count": 501,
     "metadata": {},
     "output_type": "execute_result"
    }
   ],
   "source": [
    "#FILL IN - Validate the cleaning was successful\n",
    "\n",
    "\n",
    "cleaning_df_wd.duplicated().sum()"
   ]
  },
  {
   "cell_type": "markdown",
   "metadata": {},
   "source": [
    "Justification: *FILL IN*"
   ]
  },
  {
   "cell_type": "markdown",
   "metadata": {
    "id": "bIUrrfSNyOPR"
   },
   "source": [
    "### **Tidiness Issue 1: FILL IN**"
   ]
  },
  {
   "cell_type": "code",
   "execution_count": 502,
   "metadata": {
    "id": "fib0zAm333bn"
   },
   "outputs": [],
   "source": [
    "#FILL IN - Apply the cleaning strategy\n",
    "\n",
    "cleaning_df_wd.drop('stations' , axis=1 , inplace=True)"
   ]
  },
  {
   "cell_type": "code",
   "execution_count": 503,
   "metadata": {
    "id": "yhrnUGY_Nk8B"
   },
   "outputs": [
    {
     "name": "stdout",
     "output_type": "stream",
     "text": [
      "<class 'pandas.core.frame.DataFrame'>\n",
      "Index: 10968 entries, 0 to 10971\n",
      "Data columns (total 24 columns):\n",
      " #   Column            Non-Null Count  Dtype  \n",
      "---  ------            --------------  -----  \n",
      " 0   name              10968 non-null  object \n",
      " 1   datetime          10968 non-null  object \n",
      " 2   tempmax           10968 non-null  float64\n",
      " 3   tempmin           10968 non-null  float64\n",
      " 4   temp              10968 non-null  float64\n",
      " 5   feelslikemax      10968 non-null  float64\n",
      " 6   feelslikemin      10968 non-null  float64\n",
      " 7   feelslike         10968 non-null  float64\n",
      " 8   dew               10968 non-null  float64\n",
      " 9   humidity          10968 non-null  float64\n",
      " 10  precip            10968 non-null  float64\n",
      " 11  precipprob        10968 non-null  int64  \n",
      " 12  precipcover       10968 non-null  float64\n",
      " 13  windspeed         10968 non-null  float64\n",
      " 14  winddir           10968 non-null  float64\n",
      " 15  sealevelpressure  10968 non-null  float64\n",
      " 16  cloudcover        10968 non-null  float64\n",
      " 17  visibility        10968 non-null  float64\n",
      " 18  sunrise           10968 non-null  object \n",
      " 19  sunset            10968 non-null  object \n",
      " 20  moonphase         10968 non-null  float64\n",
      " 21  conditions        10968 non-null  object \n",
      " 22  description       10968 non-null  object \n",
      " 23  icon              10968 non-null  object \n",
      "dtypes: float64(16), int64(1), object(7)\n",
      "memory usage: 2.1+ MB\n"
     ]
    }
   ],
   "source": [
    "#FILL IN - Validate the cleaning was successful\n",
    "# no need of the following column\n",
    "\n",
    "\n",
    "cleaning_df_wd.info()"
   ]
  },
  {
   "cell_type": "markdown",
   "metadata": {},
   "source": [
    "Justification: *FILL IN*"
   ]
  },
  {
   "cell_type": "markdown",
   "metadata": {
    "id": "o51Bt8kwyTzk"
   },
   "source": [
    "### **Tidiness Issue 2: FILL IN**"
   ]
  },
  {
   "cell_type": "code",
   "execution_count": 504,
   "metadata": {
    "id": "7zW8O5yx4Y9O"
   },
   "outputs": [],
   "source": [
    "#FILL IN - Apply the cleaning strategy\n",
    "\n",
    "cleaning_df_wd['sunrise'] = pd.to_datetime(cleaning_df_wd['sunrise']) ;\n",
    "cleaning_df_wd['sunset'] = pd.to_datetime(cleaning_df_wd['sunset']) ;\n",
    "cleaning_df_wd['datetime'] = pd.to_datetime(cleaning_df_wd['datetime']) ;\n",
    "\n"
   ]
  },
  {
   "cell_type": "code",
   "execution_count": 505,
   "metadata": {
    "id": "q6I_Sr7lxXi5"
   },
   "outputs": [
    {
     "name": "stdout",
     "output_type": "stream",
     "text": [
      "datetime64[ns]\n",
      "datetime64[ns]\n",
      "datetime64[ns]\n"
     ]
    }
   ],
   "source": [
    "#FILL IN - Validate the cleaning was successful\n",
    "# changing the data type \n",
    "\n",
    "\n",
    "print(cleaning_df_wd['sunrise'].dtype)\n",
    "print(cleaning_df_wd['sunset'].dtype)\n",
    "print(cleaning_df_wd['datetime'].dtype)\n"
   ]
  },
  {
   "cell_type": "code",
   "execution_count": 506,
   "metadata": {},
   "outputs": [
    {
     "name": "stdout",
     "output_type": "stream",
     "text": [
      "<class 'pandas.core.frame.DataFrame'>\n",
      "Index: 10968 entries, 0 to 10971\n",
      "Data columns (total 24 columns):\n",
      " #   Column            Non-Null Count  Dtype         \n",
      "---  ------            --------------  -----         \n",
      " 0   name              10968 non-null  object        \n",
      " 1   datetime          10968 non-null  datetime64[ns]\n",
      " 2   tempmax           10968 non-null  float64       \n",
      " 3   tempmin           10968 non-null  float64       \n",
      " 4   temp              10968 non-null  float64       \n",
      " 5   feelslikemax      10968 non-null  float64       \n",
      " 6   feelslikemin      10968 non-null  float64       \n",
      " 7   feelslike         10968 non-null  float64       \n",
      " 8   dew               10968 non-null  float64       \n",
      " 9   humidity          10968 non-null  float64       \n",
      " 10  precip            10968 non-null  float64       \n",
      " 11  precipprob        10968 non-null  int64         \n",
      " 12  precipcover       10968 non-null  float64       \n",
      " 13  windspeed         10968 non-null  float64       \n",
      " 14  winddir           10968 non-null  float64       \n",
      " 15  sealevelpressure  10968 non-null  float64       \n",
      " 16  cloudcover        10968 non-null  float64       \n",
      " 17  visibility        10968 non-null  float64       \n",
      " 18  sunrise           10968 non-null  datetime64[ns]\n",
      " 19  sunset            10968 non-null  datetime64[ns]\n",
      " 20  moonphase         10968 non-null  float64       \n",
      " 21  conditions        10968 non-null  object        \n",
      " 22  description       10968 non-null  object        \n",
      " 23  icon              10968 non-null  object        \n",
      "dtypes: datetime64[ns](3), float64(16), int64(1), object(4)\n",
      "memory usage: 2.1+ MB\n"
     ]
    }
   ],
   "source": [
    "cleaning_df_wd.info()"
   ]
  },
  {
   "cell_type": "markdown",
   "metadata": {},
   "source": [
    "Justification: *FILL IN*"
   ]
  },
  {
   "cell_type": "markdown",
   "metadata": {},
   "source": [
    "### **Dataset 2 - Air Polution**\n",
    "resolve cleaning and tideness issues"
   ]
  },
  {
   "cell_type": "code",
   "execution_count": 507,
   "metadata": {},
   "outputs": [
    {
     "data": {
      "text/html": [
       "<div>\n",
       "<style scoped>\n",
       "    .dataframe tbody tr th:only-of-type {\n",
       "        vertical-align: middle;\n",
       "    }\n",
       "\n",
       "    .dataframe tbody tr th {\n",
       "        vertical-align: top;\n",
       "    }\n",
       "\n",
       "    .dataframe thead th {\n",
       "        text-align: right;\n",
       "    }\n",
       "</style>\n",
       "<table border=\"1\" class=\"dataframe\">\n",
       "  <thead>\n",
       "    <tr style=\"text-align: right;\">\n",
       "      <th></th>\n",
       "      <th>dt</th>\n",
       "      <th>loc</th>\n",
       "      <th>lat</th>\n",
       "      <th>long</th>\n",
       "      <th>so2</th>\n",
       "      <th>no2</th>\n",
       "      <th>co</th>\n",
       "      <th>o3</th>\n",
       "      <th>pm10</th>\n",
       "      <th>pm2.5</th>\n",
       "    </tr>\n",
       "  </thead>\n",
       "  <tbody>\n",
       "    <tr>\n",
       "      <th>0</th>\n",
       "      <td>1988010100</td>\n",
       "      <td>103</td>\n",
       "      <td>37.540037</td>\n",
       "      <td>127.002661</td>\n",
       "      <td>NaN</td>\n",
       "      <td>0.007</td>\n",
       "      <td>10.3</td>\n",
       "      <td>0.000</td>\n",
       "      <td>NaN</td>\n",
       "      <td>NaN</td>\n",
       "    </tr>\n",
       "    <tr>\n",
       "      <th>1</th>\n",
       "      <td>1988010100</td>\n",
       "      <td>105</td>\n",
       "      <td>37.593730</td>\n",
       "      <td>126.947561</td>\n",
       "      <td>0.340</td>\n",
       "      <td>0.055</td>\n",
       "      <td>12.6</td>\n",
       "      <td>0.043</td>\n",
       "      <td>NaN</td>\n",
       "      <td>NaN</td>\n",
       "    </tr>\n",
       "    <tr>\n",
       "      <th>2</th>\n",
       "      <td>1988010100</td>\n",
       "      <td>107</td>\n",
       "      <td>37.542043</td>\n",
       "      <td>127.047497</td>\n",
       "      <td>0.399</td>\n",
       "      <td>0.046</td>\n",
       "      <td>13.4</td>\n",
       "      <td>NaN</td>\n",
       "      <td>NaN</td>\n",
       "      <td>NaN</td>\n",
       "    </tr>\n",
       "    <tr>\n",
       "      <th>3</th>\n",
       "      <td>1988010100</td>\n",
       "      <td>108</td>\n",
       "      <td>37.547185</td>\n",
       "      <td>127.090304</td>\n",
       "      <td>0.261</td>\n",
       "      <td>0.034</td>\n",
       "      <td>5.4</td>\n",
       "      <td>0.000</td>\n",
       "      <td>NaN</td>\n",
       "      <td>NaN</td>\n",
       "    </tr>\n",
       "    <tr>\n",
       "      <th>4</th>\n",
       "      <td>1988010100</td>\n",
       "      <td>113</td>\n",
       "      <td>37.654140</td>\n",
       "      <td>127.026801</td>\n",
       "      <td>0.443</td>\n",
       "      <td>0.039</td>\n",
       "      <td>14.6</td>\n",
       "      <td>0.000</td>\n",
       "      <td>NaN</td>\n",
       "      <td>NaN</td>\n",
       "    </tr>\n",
       "  </tbody>\n",
       "</table>\n",
       "</div>"
      ],
      "text/plain": [
       "           dt  loc        lat        long    so2    no2    co     o3  pm10  \\\n",
       "0  1988010100  103  37.540037  127.002661    NaN  0.007  10.3  0.000   NaN   \n",
       "1  1988010100  105  37.593730  126.947561  0.340  0.055  12.6  0.043   NaN   \n",
       "2  1988010100  107  37.542043  127.047497  0.399  0.046  13.4    NaN   NaN   \n",
       "3  1988010100  108  37.547185  127.090304  0.261  0.034   5.4  0.000   NaN   \n",
       "4  1988010100  113  37.654140  127.026801  0.443  0.039  14.6  0.000   NaN   \n",
       "\n",
       "   pm2.5  \n",
       "0    NaN  \n",
       "1    NaN  \n",
       "2    NaN  \n",
       "3    NaN  \n",
       "4    NaN  "
      ]
     },
     "execution_count": 507,
     "metadata": {},
     "output_type": "execute_result"
    }
   ],
   "source": [
    "# show only 5 rows \n",
    "\n",
    "cleaning_df_pd= inprocess_df_pd\n",
    "cleaning_df_pd.head(5)"
   ]
  },
  {
   "cell_type": "code",
   "execution_count": 508,
   "metadata": {},
   "outputs": [
    {
     "name": "stdout",
     "output_type": "stream",
     "text": [
      "<class 'pandas.core.frame.DataFrame'>\n",
      "RangeIndex: 5984782 entries, 0 to 5984781\n",
      "Data columns (total 10 columns):\n",
      " #   Column  Dtype  \n",
      "---  ------  -----  \n",
      " 0   dt      int64  \n",
      " 1   loc     int64  \n",
      " 2   lat     float64\n",
      " 3   long    float64\n",
      " 4   so2     float64\n",
      " 5   no2     float64\n",
      " 6   co      float64\n",
      " 7   o3      float64\n",
      " 8   pm10    float64\n",
      " 9   pm2.5   float64\n",
      "dtypes: float64(8), int64(2)\n",
      "memory usage: 456.6 MB\n"
     ]
    }
   ],
   "source": [
    "cleaning_df_pd.info()"
   ]
  },
  {
   "cell_type": "code",
   "execution_count": 509,
   "metadata": {},
   "outputs": [
    {
     "data": {
      "text/plain": [
       "dt             0\n",
       "loc            0\n",
       "lat            0\n",
       "long           0\n",
       "so2       117565\n",
       "no2       128616\n",
       "co        161948\n",
       "o3        108206\n",
       "pm10      947434\n",
       "pm2.5    2228730\n",
       "dtype: int64"
      ]
     },
     "execution_count": 509,
     "metadata": {},
     "output_type": "execute_result"
    }
   ],
   "source": [
    "cleaning_df_pd.isna().sum()"
   ]
  },
  {
   "cell_type": "code",
   "execution_count": 510,
   "metadata": {},
   "outputs": [
    {
     "data": {
      "text/html": [
       "<div>\n",
       "<style scoped>\n",
       "    .dataframe tbody tr th:only-of-type {\n",
       "        vertical-align: middle;\n",
       "    }\n",
       "\n",
       "    .dataframe tbody tr th {\n",
       "        vertical-align: top;\n",
       "    }\n",
       "\n",
       "    .dataframe thead th {\n",
       "        text-align: right;\n",
       "    }\n",
       "</style>\n",
       "<table border=\"1\" class=\"dataframe\">\n",
       "  <thead>\n",
       "    <tr style=\"text-align: right;\">\n",
       "      <th></th>\n",
       "      <th>dt</th>\n",
       "      <th>loc</th>\n",
       "      <th>lat</th>\n",
       "      <th>long</th>\n",
       "      <th>so2</th>\n",
       "      <th>no2</th>\n",
       "      <th>co</th>\n",
       "      <th>o3</th>\n",
       "      <th>pm10</th>\n",
       "      <th>pm2.5</th>\n",
       "    </tr>\n",
       "  </thead>\n",
       "  <tbody>\n",
       "    <tr>\n",
       "      <th>0</th>\n",
       "      <td>19880101</td>\n",
       "      <td>103</td>\n",
       "      <td>37.540037</td>\n",
       "      <td>127.002661</td>\n",
       "      <td>NaN</td>\n",
       "      <td>0.007</td>\n",
       "      <td>10.3</td>\n",
       "      <td>0.000</td>\n",
       "      <td>NaN</td>\n",
       "      <td>NaN</td>\n",
       "    </tr>\n",
       "    <tr>\n",
       "      <th>1</th>\n",
       "      <td>19880101</td>\n",
       "      <td>105</td>\n",
       "      <td>37.593730</td>\n",
       "      <td>126.947561</td>\n",
       "      <td>0.340</td>\n",
       "      <td>0.055</td>\n",
       "      <td>12.6</td>\n",
       "      <td>0.043</td>\n",
       "      <td>NaN</td>\n",
       "      <td>NaN</td>\n",
       "    </tr>\n",
       "    <tr>\n",
       "      <th>2</th>\n",
       "      <td>19880101</td>\n",
       "      <td>107</td>\n",
       "      <td>37.542043</td>\n",
       "      <td>127.047497</td>\n",
       "      <td>0.399</td>\n",
       "      <td>0.046</td>\n",
       "      <td>13.4</td>\n",
       "      <td>NaN</td>\n",
       "      <td>NaN</td>\n",
       "      <td>NaN</td>\n",
       "    </tr>\n",
       "    <tr>\n",
       "      <th>3</th>\n",
       "      <td>19880101</td>\n",
       "      <td>108</td>\n",
       "      <td>37.547185</td>\n",
       "      <td>127.090304</td>\n",
       "      <td>0.261</td>\n",
       "      <td>0.034</td>\n",
       "      <td>5.4</td>\n",
       "      <td>0.000</td>\n",
       "      <td>NaN</td>\n",
       "      <td>NaN</td>\n",
       "    </tr>\n",
       "    <tr>\n",
       "      <th>4</th>\n",
       "      <td>19880101</td>\n",
       "      <td>113</td>\n",
       "      <td>37.654140</td>\n",
       "      <td>127.026801</td>\n",
       "      <td>0.443</td>\n",
       "      <td>0.039</td>\n",
       "      <td>14.6</td>\n",
       "      <td>0.000</td>\n",
       "      <td>NaN</td>\n",
       "      <td>NaN</td>\n",
       "    </tr>\n",
       "    <tr>\n",
       "      <th>...</th>\n",
       "      <td>...</td>\n",
       "      <td>...</td>\n",
       "      <td>...</td>\n",
       "      <td>...</td>\n",
       "      <td>...</td>\n",
       "      <td>...</td>\n",
       "      <td>...</td>\n",
       "      <td>...</td>\n",
       "      <td>...</td>\n",
       "      <td>...</td>\n",
       "    </tr>\n",
       "    <tr>\n",
       "      <th>5984777</th>\n",
       "      <td>20211231</td>\n",
       "      <td>121</td>\n",
       "      <td>37.487359</td>\n",
       "      <td>126.924913</td>\n",
       "      <td>0.003</td>\n",
       "      <td>0.027</td>\n",
       "      <td>0.5</td>\n",
       "      <td>0.016</td>\n",
       "      <td>21.0</td>\n",
       "      <td>9.0</td>\n",
       "    </tr>\n",
       "    <tr>\n",
       "      <th>5984778</th>\n",
       "      <td>20211231</td>\n",
       "      <td>122</td>\n",
       "      <td>37.504547</td>\n",
       "      <td>126.992308</td>\n",
       "      <td>0.003</td>\n",
       "      <td>0.021</td>\n",
       "      <td>0.4</td>\n",
       "      <td>0.023</td>\n",
       "      <td>16.0</td>\n",
       "      <td>10.0</td>\n",
       "    </tr>\n",
       "    <tr>\n",
       "      <th>5984779</th>\n",
       "      <td>20211231</td>\n",
       "      <td>123</td>\n",
       "      <td>37.517546</td>\n",
       "      <td>127.045775</td>\n",
       "      <td>0.003</td>\n",
       "      <td>0.019</td>\n",
       "      <td>0.4</td>\n",
       "      <td>0.024</td>\n",
       "      <td>18.0</td>\n",
       "      <td>6.0</td>\n",
       "    </tr>\n",
       "    <tr>\n",
       "      <th>5984780</th>\n",
       "      <td>20211231</td>\n",
       "      <td>124</td>\n",
       "      <td>37.502688</td>\n",
       "      <td>127.090327</td>\n",
       "      <td>0.003</td>\n",
       "      <td>0.025</td>\n",
       "      <td>0.5</td>\n",
       "      <td>0.020</td>\n",
       "      <td>21.0</td>\n",
       "      <td>8.0</td>\n",
       "    </tr>\n",
       "    <tr>\n",
       "      <th>5984781</th>\n",
       "      <td>20211231</td>\n",
       "      <td>125</td>\n",
       "      <td>37.544989</td>\n",
       "      <td>127.134599</td>\n",
       "      <td>0.002</td>\n",
       "      <td>0.020</td>\n",
       "      <td>0.4</td>\n",
       "      <td>0.020</td>\n",
       "      <td>22.0</td>\n",
       "      <td>10.0</td>\n",
       "    </tr>\n",
       "  </tbody>\n",
       "</table>\n",
       "<p>5984782 rows × 10 columns</p>\n",
       "</div>"
      ],
      "text/plain": [
       "               dt  loc        lat        long    so2    no2    co     o3  \\\n",
       "0        19880101  103  37.540037  127.002661    NaN  0.007  10.3  0.000   \n",
       "1        19880101  105  37.593730  126.947561  0.340  0.055  12.6  0.043   \n",
       "2        19880101  107  37.542043  127.047497  0.399  0.046  13.4    NaN   \n",
       "3        19880101  108  37.547185  127.090304  0.261  0.034   5.4  0.000   \n",
       "4        19880101  113  37.654140  127.026801  0.443  0.039  14.6  0.000   \n",
       "...           ...  ...        ...         ...    ...    ...   ...    ...   \n",
       "5984777  20211231  121  37.487359  126.924913  0.003  0.027   0.5  0.016   \n",
       "5984778  20211231  122  37.504547  126.992308  0.003  0.021   0.4  0.023   \n",
       "5984779  20211231  123  37.517546  127.045775  0.003  0.019   0.4  0.024   \n",
       "5984780  20211231  124  37.502688  127.090327  0.003  0.025   0.5  0.020   \n",
       "5984781  20211231  125  37.544989  127.134599  0.002  0.020   0.4  0.020   \n",
       "\n",
       "         pm10  pm2.5  \n",
       "0         NaN    NaN  \n",
       "1         NaN    NaN  \n",
       "2         NaN    NaN  \n",
       "3         NaN    NaN  \n",
       "4         NaN    NaN  \n",
       "...       ...    ...  \n",
       "5984777  21.0    9.0  \n",
       "5984778  16.0   10.0  \n",
       "5984779  18.0    6.0  \n",
       "5984780  21.0    8.0  \n",
       "5984781  22.0   10.0  \n",
       "\n",
       "[5984782 rows x 10 columns]"
      ]
     },
     "execution_count": 510,
     "metadata": {},
     "output_type": "execute_result"
    }
   ],
   "source": [
    "# Removing last two digit in date column because we don't need them\n",
    "cleaning_df_pd['dt'] =cleaning_df_pd['dt'].astype(str).str[:8]\n",
    "cleaning_df_pd"
   ]
  },
  {
   "cell_type": "code",
   "execution_count": 511,
   "metadata": {},
   "outputs": [],
   "source": [
    "# converting to datetime\n",
    "\n",
    "cleaning_df_pd['dt'] =pd.to_datetime(cleaning_df_pd['dt'])"
   ]
  },
  {
   "cell_type": "code",
   "execution_count": 512,
   "metadata": {},
   "outputs": [
    {
     "data": {
      "text/html": [
       "<div>\n",
       "<style scoped>\n",
       "    .dataframe tbody tr th:only-of-type {\n",
       "        vertical-align: middle;\n",
       "    }\n",
       "\n",
       "    .dataframe tbody tr th {\n",
       "        vertical-align: top;\n",
       "    }\n",
       "\n",
       "    .dataframe thead th {\n",
       "        text-align: right;\n",
       "    }\n",
       "</style>\n",
       "<table border=\"1\" class=\"dataframe\">\n",
       "  <thead>\n",
       "    <tr style=\"text-align: right;\">\n",
       "      <th></th>\n",
       "      <th>dt</th>\n",
       "      <th>loc</th>\n",
       "      <th>lat</th>\n",
       "      <th>long</th>\n",
       "      <th>so2</th>\n",
       "      <th>no2</th>\n",
       "      <th>co</th>\n",
       "      <th>o3</th>\n",
       "      <th>pm10</th>\n",
       "      <th>pm2.5</th>\n",
       "    </tr>\n",
       "  </thead>\n",
       "  <tbody>\n",
       "    <tr>\n",
       "      <th>0</th>\n",
       "      <td>1988-01-01</td>\n",
       "      <td>103</td>\n",
       "      <td>37.540037</td>\n",
       "      <td>127.002661</td>\n",
       "      <td>NaN</td>\n",
       "      <td>0.007</td>\n",
       "      <td>10.3</td>\n",
       "      <td>0.000</td>\n",
       "      <td>NaN</td>\n",
       "      <td>NaN</td>\n",
       "    </tr>\n",
       "    <tr>\n",
       "      <th>1</th>\n",
       "      <td>1988-01-01</td>\n",
       "      <td>105</td>\n",
       "      <td>37.593730</td>\n",
       "      <td>126.947561</td>\n",
       "      <td>0.340</td>\n",
       "      <td>0.055</td>\n",
       "      <td>12.6</td>\n",
       "      <td>0.043</td>\n",
       "      <td>NaN</td>\n",
       "      <td>NaN</td>\n",
       "    </tr>\n",
       "    <tr>\n",
       "      <th>2</th>\n",
       "      <td>1988-01-01</td>\n",
       "      <td>107</td>\n",
       "      <td>37.542043</td>\n",
       "      <td>127.047497</td>\n",
       "      <td>0.399</td>\n",
       "      <td>0.046</td>\n",
       "      <td>13.4</td>\n",
       "      <td>NaN</td>\n",
       "      <td>NaN</td>\n",
       "      <td>NaN</td>\n",
       "    </tr>\n",
       "    <tr>\n",
       "      <th>3</th>\n",
       "      <td>1988-01-01</td>\n",
       "      <td>108</td>\n",
       "      <td>37.547185</td>\n",
       "      <td>127.090304</td>\n",
       "      <td>0.261</td>\n",
       "      <td>0.034</td>\n",
       "      <td>5.4</td>\n",
       "      <td>0.000</td>\n",
       "      <td>NaN</td>\n",
       "      <td>NaN</td>\n",
       "    </tr>\n",
       "    <tr>\n",
       "      <th>4</th>\n",
       "      <td>1988-01-01</td>\n",
       "      <td>113</td>\n",
       "      <td>37.654140</td>\n",
       "      <td>127.026801</td>\n",
       "      <td>0.443</td>\n",
       "      <td>0.039</td>\n",
       "      <td>14.6</td>\n",
       "      <td>0.000</td>\n",
       "      <td>NaN</td>\n",
       "      <td>NaN</td>\n",
       "    </tr>\n",
       "    <tr>\n",
       "      <th>...</th>\n",
       "      <td>...</td>\n",
       "      <td>...</td>\n",
       "      <td>...</td>\n",
       "      <td>...</td>\n",
       "      <td>...</td>\n",
       "      <td>...</td>\n",
       "      <td>...</td>\n",
       "      <td>...</td>\n",
       "      <td>...</td>\n",
       "      <td>...</td>\n",
       "    </tr>\n",
       "    <tr>\n",
       "      <th>5984777</th>\n",
       "      <td>2021-12-31</td>\n",
       "      <td>121</td>\n",
       "      <td>37.487359</td>\n",
       "      <td>126.924913</td>\n",
       "      <td>0.003</td>\n",
       "      <td>0.027</td>\n",
       "      <td>0.5</td>\n",
       "      <td>0.016</td>\n",
       "      <td>21.0</td>\n",
       "      <td>9.0</td>\n",
       "    </tr>\n",
       "    <tr>\n",
       "      <th>5984778</th>\n",
       "      <td>2021-12-31</td>\n",
       "      <td>122</td>\n",
       "      <td>37.504547</td>\n",
       "      <td>126.992308</td>\n",
       "      <td>0.003</td>\n",
       "      <td>0.021</td>\n",
       "      <td>0.4</td>\n",
       "      <td>0.023</td>\n",
       "      <td>16.0</td>\n",
       "      <td>10.0</td>\n",
       "    </tr>\n",
       "    <tr>\n",
       "      <th>5984779</th>\n",
       "      <td>2021-12-31</td>\n",
       "      <td>123</td>\n",
       "      <td>37.517546</td>\n",
       "      <td>127.045775</td>\n",
       "      <td>0.003</td>\n",
       "      <td>0.019</td>\n",
       "      <td>0.4</td>\n",
       "      <td>0.024</td>\n",
       "      <td>18.0</td>\n",
       "      <td>6.0</td>\n",
       "    </tr>\n",
       "    <tr>\n",
       "      <th>5984780</th>\n",
       "      <td>2021-12-31</td>\n",
       "      <td>124</td>\n",
       "      <td>37.502688</td>\n",
       "      <td>127.090327</td>\n",
       "      <td>0.003</td>\n",
       "      <td>0.025</td>\n",
       "      <td>0.5</td>\n",
       "      <td>0.020</td>\n",
       "      <td>21.0</td>\n",
       "      <td>8.0</td>\n",
       "    </tr>\n",
       "    <tr>\n",
       "      <th>5984781</th>\n",
       "      <td>2021-12-31</td>\n",
       "      <td>125</td>\n",
       "      <td>37.544989</td>\n",
       "      <td>127.134599</td>\n",
       "      <td>0.002</td>\n",
       "      <td>0.020</td>\n",
       "      <td>0.4</td>\n",
       "      <td>0.020</td>\n",
       "      <td>22.0</td>\n",
       "      <td>10.0</td>\n",
       "    </tr>\n",
       "  </tbody>\n",
       "</table>\n",
       "<p>5984782 rows × 10 columns</p>\n",
       "</div>"
      ],
      "text/plain": [
       "                dt  loc        lat        long    so2    no2    co     o3  \\\n",
       "0       1988-01-01  103  37.540037  127.002661    NaN  0.007  10.3  0.000   \n",
       "1       1988-01-01  105  37.593730  126.947561  0.340  0.055  12.6  0.043   \n",
       "2       1988-01-01  107  37.542043  127.047497  0.399  0.046  13.4    NaN   \n",
       "3       1988-01-01  108  37.547185  127.090304  0.261  0.034   5.4  0.000   \n",
       "4       1988-01-01  113  37.654140  127.026801  0.443  0.039  14.6  0.000   \n",
       "...            ...  ...        ...         ...    ...    ...   ...    ...   \n",
       "5984777 2021-12-31  121  37.487359  126.924913  0.003  0.027   0.5  0.016   \n",
       "5984778 2021-12-31  122  37.504547  126.992308  0.003  0.021   0.4  0.023   \n",
       "5984779 2021-12-31  123  37.517546  127.045775  0.003  0.019   0.4  0.024   \n",
       "5984780 2021-12-31  124  37.502688  127.090327  0.003  0.025   0.5  0.020   \n",
       "5984781 2021-12-31  125  37.544989  127.134599  0.002  0.020   0.4  0.020   \n",
       "\n",
       "         pm10  pm2.5  \n",
       "0         NaN    NaN  \n",
       "1         NaN    NaN  \n",
       "2         NaN    NaN  \n",
       "3         NaN    NaN  \n",
       "4         NaN    NaN  \n",
       "...       ...    ...  \n",
       "5984777  21.0    9.0  \n",
       "5984778  16.0   10.0  \n",
       "5984779  18.0    6.0  \n",
       "5984780  21.0    8.0  \n",
       "5984781  22.0   10.0  \n",
       "\n",
       "[5984782 rows x 10 columns]"
      ]
     },
     "execution_count": 512,
     "metadata": {},
     "output_type": "execute_result"
    }
   ],
   "source": [
    "cleaning_df_pd"
   ]
  },
  {
   "cell_type": "code",
   "execution_count": 513,
   "metadata": {},
   "outputs": [
    {
     "name": "stdout",
     "output_type": "stream",
     "text": [
      "<class 'pandas.core.frame.DataFrame'>\n",
      "RangeIndex: 5984782 entries, 0 to 5984781\n",
      "Data columns (total 10 columns):\n",
      " #   Column  Dtype         \n",
      "---  ------  -----         \n",
      " 0   dt      datetime64[ns]\n",
      " 1   loc     int64         \n",
      " 2   lat     float64       \n",
      " 3   long    float64       \n",
      " 4   so2     float64       \n",
      " 5   no2     float64       \n",
      " 6   co      float64       \n",
      " 7   o3      float64       \n",
      " 8   pm10    float64       \n",
      " 9   pm2.5   float64       \n",
      "dtypes: datetime64[ns](1), float64(8), int64(1)\n",
      "memory usage: 456.6 MB\n"
     ]
    }
   ],
   "source": [
    "cleaning_df_pd.info()"
   ]
  },
  {
   "cell_type": "code",
   "execution_count": 514,
   "metadata": {},
   "outputs": [
    {
     "data": {
      "text/plain": [
       "dt             0\n",
       "loc            0\n",
       "lat            0\n",
       "long           0\n",
       "so2       117565\n",
       "no2       128616\n",
       "co        161948\n",
       "o3        108206\n",
       "pm10      947434\n",
       "pm2.5    2228730\n",
       "dtype: int64"
      ]
     },
     "execution_count": 514,
     "metadata": {},
     "output_type": "execute_result"
    }
   ],
   "source": [
    "cleaning_df_pd.isna().sum()"
   ]
  },
  {
   "cell_type": "code",
   "execution_count": 515,
   "metadata": {},
   "outputs": [],
   "source": [
    "cleaning_df_pd =cleaning_df_pd.drop_duplicates()"
   ]
  },
  {
   "cell_type": "code",
   "execution_count": 516,
   "metadata": {},
   "outputs": [
    {
     "data": {
      "text/plain": [
       "0"
      ]
     },
     "execution_count": 516,
     "metadata": {},
     "output_type": "execute_result"
    }
   ],
   "source": [
    "cleaning_df_pd.duplicated().sum()"
   ]
  },
  {
   "cell_type": "code",
   "execution_count": 517,
   "metadata": {},
   "outputs": [],
   "source": [
    "cleaning_df_pd = cleaning_df_pd.dropna()"
   ]
  },
  {
   "cell_type": "code",
   "execution_count": 518,
   "metadata": {},
   "outputs": [
    {
     "data": {
      "text/plain": [
       "dt       0\n",
       "loc      0\n",
       "lat      0\n",
       "long     0\n",
       "so2      0\n",
       "no2      0\n",
       "co       0\n",
       "o3       0\n",
       "pm10     0\n",
       "pm2.5    0\n",
       "dtype: int64"
      ]
     },
     "execution_count": 518,
     "metadata": {},
     "output_type": "execute_result"
    }
   ],
   "source": [
    "cleaning_df_pd.isna().sum()"
   ]
  },
  {
   "cell_type": "code",
   "execution_count": 519,
   "metadata": {},
   "outputs": [],
   "source": [
    "# there are multiple locations , removing all location except 103 to align the date column with another dataset\n",
    "\n",
    "cleaning_df_pd = cleaning_df_pd[ cleaning_df_pd['loc'] == 103 ]"
   ]
  },
  {
   "cell_type": "code",
   "execution_count": 520,
   "metadata": {},
   "outputs": [
    {
     "data": {
      "text/html": [
       "<div>\n",
       "<style scoped>\n",
       "    .dataframe tbody tr th:only-of-type {\n",
       "        vertical-align: middle;\n",
       "    }\n",
       "\n",
       "    .dataframe tbody tr th {\n",
       "        vertical-align: top;\n",
       "    }\n",
       "\n",
       "    .dataframe thead th {\n",
       "        text-align: right;\n",
       "    }\n",
       "</style>\n",
       "<table border=\"1\" class=\"dataframe\">\n",
       "  <thead>\n",
       "    <tr style=\"text-align: right;\">\n",
       "      <th></th>\n",
       "      <th>dt</th>\n",
       "      <th>loc</th>\n",
       "      <th>lat</th>\n",
       "      <th>long</th>\n",
       "      <th>so2</th>\n",
       "      <th>no2</th>\n",
       "      <th>co</th>\n",
       "      <th>o3</th>\n",
       "      <th>pm10</th>\n",
       "      <th>pm2.5</th>\n",
       "    </tr>\n",
       "  </thead>\n",
       "  <tbody>\n",
       "    <tr>\n",
       "      <th>1627649</th>\n",
       "      <td>2001-08-08</td>\n",
       "      <td>103</td>\n",
       "      <td>37.540037</td>\n",
       "      <td>127.002661</td>\n",
       "      <td>0.003</td>\n",
       "      <td>0.035</td>\n",
       "      <td>0.2</td>\n",
       "      <td>0.027</td>\n",
       "      <td>54.0</td>\n",
       "      <td>32.0</td>\n",
       "    </tr>\n",
       "    <tr>\n",
       "      <th>1627674</th>\n",
       "      <td>2001-08-08</td>\n",
       "      <td>103</td>\n",
       "      <td>37.540037</td>\n",
       "      <td>127.002661</td>\n",
       "      <td>0.003</td>\n",
       "      <td>0.034</td>\n",
       "      <td>0.2</td>\n",
       "      <td>0.024</td>\n",
       "      <td>43.0</td>\n",
       "      <td>21.0</td>\n",
       "    </tr>\n",
       "    <tr>\n",
       "      <th>1627699</th>\n",
       "      <td>2001-08-08</td>\n",
       "      <td>103</td>\n",
       "      <td>37.540037</td>\n",
       "      <td>127.002661</td>\n",
       "      <td>0.003</td>\n",
       "      <td>0.028</td>\n",
       "      <td>0.2</td>\n",
       "      <td>0.018</td>\n",
       "      <td>36.0</td>\n",
       "      <td>20.0</td>\n",
       "    </tr>\n",
       "    <tr>\n",
       "      <th>1627724</th>\n",
       "      <td>2001-08-08</td>\n",
       "      <td>103</td>\n",
       "      <td>37.540037</td>\n",
       "      <td>127.002661</td>\n",
       "      <td>0.003</td>\n",
       "      <td>0.031</td>\n",
       "      <td>0.3</td>\n",
       "      <td>0.014</td>\n",
       "      <td>38.0</td>\n",
       "      <td>20.0</td>\n",
       "    </tr>\n",
       "    <tr>\n",
       "      <th>1627749</th>\n",
       "      <td>2001-08-08</td>\n",
       "      <td>103</td>\n",
       "      <td>37.540037</td>\n",
       "      <td>127.002661</td>\n",
       "      <td>0.004</td>\n",
       "      <td>0.035</td>\n",
       "      <td>0.3</td>\n",
       "      <td>0.013</td>\n",
       "      <td>35.0</td>\n",
       "      <td>16.0</td>\n",
       "    </tr>\n",
       "  </tbody>\n",
       "</table>\n",
       "</div>"
      ],
      "text/plain": [
       "                dt  loc        lat        long    so2    no2   co     o3  \\\n",
       "1627649 2001-08-08  103  37.540037  127.002661  0.003  0.035  0.2  0.027   \n",
       "1627674 2001-08-08  103  37.540037  127.002661  0.003  0.034  0.2  0.024   \n",
       "1627699 2001-08-08  103  37.540037  127.002661  0.003  0.028  0.2  0.018   \n",
       "1627724 2001-08-08  103  37.540037  127.002661  0.003  0.031  0.3  0.014   \n",
       "1627749 2001-08-08  103  37.540037  127.002661  0.004  0.035  0.3  0.013   \n",
       "\n",
       "         pm10  pm2.5  \n",
       "1627649  54.0   32.0  \n",
       "1627674  43.0   21.0  \n",
       "1627699  36.0   20.0  \n",
       "1627724  38.0   20.0  \n",
       "1627749  35.0   16.0  "
      ]
     },
     "execution_count": 520,
     "metadata": {},
     "output_type": "execute_result"
    }
   ],
   "source": [
    "cleaning_df_pd.head(5)"
   ]
  },
  {
   "cell_type": "code",
   "execution_count": 521,
   "metadata": {},
   "outputs": [],
   "source": [
    "# removing duplicates \n",
    "cleaning_df_pd.drop_duplicates(subset=['dt', 'loc', 'lat', 'long'], keep='first', inplace=True)"
   ]
  },
  {
   "cell_type": "code",
   "execution_count": 522,
   "metadata": {},
   "outputs": [
    {
     "data": {
      "text/html": [
       "<div>\n",
       "<style scoped>\n",
       "    .dataframe tbody tr th:only-of-type {\n",
       "        vertical-align: middle;\n",
       "    }\n",
       "\n",
       "    .dataframe tbody tr th {\n",
       "        vertical-align: top;\n",
       "    }\n",
       "\n",
       "    .dataframe thead th {\n",
       "        text-align: right;\n",
       "    }\n",
       "</style>\n",
       "<table border=\"1\" class=\"dataframe\">\n",
       "  <thead>\n",
       "    <tr style=\"text-align: right;\">\n",
       "      <th></th>\n",
       "      <th>dt</th>\n",
       "      <th>loc</th>\n",
       "      <th>lat</th>\n",
       "      <th>long</th>\n",
       "      <th>so2</th>\n",
       "      <th>no2</th>\n",
       "      <th>co</th>\n",
       "      <th>o3</th>\n",
       "      <th>pm10</th>\n",
       "      <th>pm2.5</th>\n",
       "    </tr>\n",
       "  </thead>\n",
       "  <tbody>\n",
       "    <tr>\n",
       "      <th>1627649</th>\n",
       "      <td>2001-08-08</td>\n",
       "      <td>103</td>\n",
       "      <td>37.540037</td>\n",
       "      <td>127.002661</td>\n",
       "      <td>0.003</td>\n",
       "      <td>0.035</td>\n",
       "      <td>0.2</td>\n",
       "      <td>0.027</td>\n",
       "      <td>54.0</td>\n",
       "      <td>32.0</td>\n",
       "    </tr>\n",
       "    <tr>\n",
       "      <th>1627849</th>\n",
       "      <td>2001-08-09</td>\n",
       "      <td>103</td>\n",
       "      <td>37.540037</td>\n",
       "      <td>127.002661</td>\n",
       "      <td>0.004</td>\n",
       "      <td>0.026</td>\n",
       "      <td>0.2</td>\n",
       "      <td>0.014</td>\n",
       "      <td>41.0</td>\n",
       "      <td>18.0</td>\n",
       "    </tr>\n",
       "    <tr>\n",
       "      <th>1628448</th>\n",
       "      <td>2001-08-10</td>\n",
       "      <td>103</td>\n",
       "      <td>37.540037</td>\n",
       "      <td>127.002661</td>\n",
       "      <td>0.003</td>\n",
       "      <td>0.039</td>\n",
       "      <td>0.2</td>\n",
       "      <td>0.003</td>\n",
       "      <td>57.0</td>\n",
       "      <td>37.0</td>\n",
       "    </tr>\n",
       "    <tr>\n",
       "      <th>1629047</th>\n",
       "      <td>2001-08-11</td>\n",
       "      <td>103</td>\n",
       "      <td>37.540037</td>\n",
       "      <td>127.002661</td>\n",
       "      <td>0.004</td>\n",
       "      <td>0.060</td>\n",
       "      <td>0.3</td>\n",
       "      <td>0.003</td>\n",
       "      <td>70.0</td>\n",
       "      <td>47.0</td>\n",
       "    </tr>\n",
       "    <tr>\n",
       "      <th>1629645</th>\n",
       "      <td>2001-08-12</td>\n",
       "      <td>103</td>\n",
       "      <td>37.540037</td>\n",
       "      <td>127.002661</td>\n",
       "      <td>0.003</td>\n",
       "      <td>0.031</td>\n",
       "      <td>0.2</td>\n",
       "      <td>0.007</td>\n",
       "      <td>33.0</td>\n",
       "      <td>15.0</td>\n",
       "    </tr>\n",
       "  </tbody>\n",
       "</table>\n",
       "</div>"
      ],
      "text/plain": [
       "                dt  loc        lat        long    so2    no2   co     o3  \\\n",
       "1627649 2001-08-08  103  37.540037  127.002661  0.003  0.035  0.2  0.027   \n",
       "1627849 2001-08-09  103  37.540037  127.002661  0.004  0.026  0.2  0.014   \n",
       "1628448 2001-08-10  103  37.540037  127.002661  0.003  0.039  0.2  0.003   \n",
       "1629047 2001-08-11  103  37.540037  127.002661  0.004  0.060  0.3  0.003   \n",
       "1629645 2001-08-12  103  37.540037  127.002661  0.003  0.031  0.2  0.007   \n",
       "\n",
       "         pm10  pm2.5  \n",
       "1627649  54.0   32.0  \n",
       "1627849  41.0   18.0  \n",
       "1628448  57.0   37.0  \n",
       "1629047  70.0   47.0  \n",
       "1629645  33.0   15.0  "
      ]
     },
     "execution_count": 522,
     "metadata": {},
     "output_type": "execute_result"
    }
   ],
   "source": [
    "cleaning_df_pd.sort_values(by='dt' , ascending=True ).head(5)"
   ]
  },
  {
   "cell_type": "code",
   "execution_count": null,
   "metadata": {},
   "outputs": [],
   "source": []
  },
  {
   "cell_type": "code",
   "execution_count": 523,
   "metadata": {},
   "outputs": [
    {
     "data": {
      "text/html": [
       "<div>\n",
       "<style scoped>\n",
       "    .dataframe tbody tr th:only-of-type {\n",
       "        vertical-align: middle;\n",
       "    }\n",
       "\n",
       "    .dataframe tbody tr th {\n",
       "        vertical-align: top;\n",
       "    }\n",
       "\n",
       "    .dataframe thead th {\n",
       "        text-align: right;\n",
       "    }\n",
       "</style>\n",
       "<table border=\"1\" class=\"dataframe\">\n",
       "  <thead>\n",
       "    <tr style=\"text-align: right;\">\n",
       "      <th></th>\n",
       "      <th>dt</th>\n",
       "      <th>loc</th>\n",
       "      <th>lat</th>\n",
       "      <th>long</th>\n",
       "      <th>so2</th>\n",
       "      <th>no2</th>\n",
       "      <th>co</th>\n",
       "      <th>o3</th>\n",
       "      <th>pm10</th>\n",
       "      <th>pm2.5</th>\n",
       "    </tr>\n",
       "  </thead>\n",
       "  <tbody>\n",
       "    <tr>\n",
       "      <th>5984185</th>\n",
       "      <td>2021-12-31</td>\n",
       "      <td>103</td>\n",
       "      <td>37.540037</td>\n",
       "      <td>127.002661</td>\n",
       "      <td>0.003</td>\n",
       "      <td>0.009</td>\n",
       "      <td>0.3</td>\n",
       "      <td>0.028</td>\n",
       "      <td>22.0</td>\n",
       "      <td>12.0</td>\n",
       "    </tr>\n",
       "    <tr>\n",
       "      <th>5983589</th>\n",
       "      <td>2021-12-30</td>\n",
       "      <td>103</td>\n",
       "      <td>37.540037</td>\n",
       "      <td>127.002661</td>\n",
       "      <td>0.004</td>\n",
       "      <td>0.016</td>\n",
       "      <td>0.4</td>\n",
       "      <td>0.019</td>\n",
       "      <td>37.0</td>\n",
       "      <td>20.0</td>\n",
       "    </tr>\n",
       "  </tbody>\n",
       "</table>\n",
       "</div>"
      ],
      "text/plain": [
       "                dt  loc        lat        long    so2    no2   co     o3  \\\n",
       "5984185 2021-12-31  103  37.540037  127.002661  0.003  0.009  0.3  0.028   \n",
       "5983589 2021-12-30  103  37.540037  127.002661  0.004  0.016  0.4  0.019   \n",
       "\n",
       "         pm10  pm2.5  \n",
       "5984185  22.0   12.0  \n",
       "5983589  37.0   20.0  "
      ]
     },
     "execution_count": 523,
     "metadata": {},
     "output_type": "execute_result"
    }
   ],
   "source": [
    "cleaning_df_pd.sort_values(by='dt' , ascending=False ).head(2)"
   ]
  },
  {
   "cell_type": "code",
   "execution_count": 524,
   "metadata": {},
   "outputs": [
    {
     "data": {
      "text/plain": [
       "7082"
      ]
     },
     "execution_count": 524,
     "metadata": {},
     "output_type": "execute_result"
    }
   ],
   "source": [
    "row_count = len(cleaning_df_pd)\n",
    "row_count"
   ]
  },
  {
   "cell_type": "code",
   "execution_count": 525,
   "metadata": {},
   "outputs": [
    {
     "data": {
      "text/html": [
       "<div>\n",
       "<style scoped>\n",
       "    .dataframe tbody tr th:only-of-type {\n",
       "        vertical-align: middle;\n",
       "    }\n",
       "\n",
       "    .dataframe tbody tr th {\n",
       "        vertical-align: top;\n",
       "    }\n",
       "\n",
       "    .dataframe thead th {\n",
       "        text-align: right;\n",
       "    }\n",
       "</style>\n",
       "<table border=\"1\" class=\"dataframe\">\n",
       "  <thead>\n",
       "    <tr style=\"text-align: right;\">\n",
       "      <th></th>\n",
       "      <th>dt</th>\n",
       "      <th>loc</th>\n",
       "      <th>lat</th>\n",
       "      <th>long</th>\n",
       "      <th>so2</th>\n",
       "      <th>no2</th>\n",
       "      <th>co</th>\n",
       "      <th>o3</th>\n",
       "      <th>pm10</th>\n",
       "      <th>pm2.5</th>\n",
       "    </tr>\n",
       "  </thead>\n",
       "  <tbody>\n",
       "    <tr>\n",
       "      <th>1627649</th>\n",
       "      <td>2001-08-08</td>\n",
       "      <td>103</td>\n",
       "      <td>37.540037</td>\n",
       "      <td>127.002661</td>\n",
       "      <td>0.003</td>\n",
       "      <td>0.035</td>\n",
       "      <td>0.2</td>\n",
       "      <td>0.027</td>\n",
       "      <td>54.0</td>\n",
       "      <td>32.0</td>\n",
       "    </tr>\n",
       "    <tr>\n",
       "      <th>1627849</th>\n",
       "      <td>2001-08-09</td>\n",
       "      <td>103</td>\n",
       "      <td>37.540037</td>\n",
       "      <td>127.002661</td>\n",
       "      <td>0.004</td>\n",
       "      <td>0.026</td>\n",
       "      <td>0.2</td>\n",
       "      <td>0.014</td>\n",
       "      <td>41.0</td>\n",
       "      <td>18.0</td>\n",
       "    </tr>\n",
       "    <tr>\n",
       "      <th>1628448</th>\n",
       "      <td>2001-08-10</td>\n",
       "      <td>103</td>\n",
       "      <td>37.540037</td>\n",
       "      <td>127.002661</td>\n",
       "      <td>0.003</td>\n",
       "      <td>0.039</td>\n",
       "      <td>0.2</td>\n",
       "      <td>0.003</td>\n",
       "      <td>57.0</td>\n",
       "      <td>37.0</td>\n",
       "    </tr>\n",
       "    <tr>\n",
       "      <th>1629047</th>\n",
       "      <td>2001-08-11</td>\n",
       "      <td>103</td>\n",
       "      <td>37.540037</td>\n",
       "      <td>127.002661</td>\n",
       "      <td>0.004</td>\n",
       "      <td>0.060</td>\n",
       "      <td>0.3</td>\n",
       "      <td>0.003</td>\n",
       "      <td>70.0</td>\n",
       "      <td>47.0</td>\n",
       "    </tr>\n",
       "    <tr>\n",
       "      <th>1629645</th>\n",
       "      <td>2001-08-12</td>\n",
       "      <td>103</td>\n",
       "      <td>37.540037</td>\n",
       "      <td>127.002661</td>\n",
       "      <td>0.003</td>\n",
       "      <td>0.031</td>\n",
       "      <td>0.2</td>\n",
       "      <td>0.007</td>\n",
       "      <td>33.0</td>\n",
       "      <td>15.0</td>\n",
       "    </tr>\n",
       "  </tbody>\n",
       "</table>\n",
       "</div>"
      ],
      "text/plain": [
       "                dt  loc        lat        long    so2    no2   co     o3  \\\n",
       "1627649 2001-08-08  103  37.540037  127.002661  0.003  0.035  0.2  0.027   \n",
       "1627849 2001-08-09  103  37.540037  127.002661  0.004  0.026  0.2  0.014   \n",
       "1628448 2001-08-10  103  37.540037  127.002661  0.003  0.039  0.2  0.003   \n",
       "1629047 2001-08-11  103  37.540037  127.002661  0.004  0.060  0.3  0.003   \n",
       "1629645 2001-08-12  103  37.540037  127.002661  0.003  0.031  0.2  0.007   \n",
       "\n",
       "         pm10  pm2.5  \n",
       "1627649  54.0   32.0  \n",
       "1627849  41.0   18.0  \n",
       "1628448  57.0   37.0  \n",
       "1629047  70.0   47.0  \n",
       "1629645  33.0   15.0  "
      ]
     },
     "execution_count": 525,
     "metadata": {},
     "output_type": "execute_result"
    }
   ],
   "source": [
    "cleaning_df_pd.sort_values(by='dt', ascending=True).head(5)"
   ]
  },
  {
   "cell_type": "code",
   "execution_count": 526,
   "metadata": {},
   "outputs": [
    {
     "data": {
      "text/html": [
       "<div>\n",
       "<style scoped>\n",
       "    .dataframe tbody tr th:only-of-type {\n",
       "        vertical-align: middle;\n",
       "    }\n",
       "\n",
       "    .dataframe tbody tr th {\n",
       "        vertical-align: top;\n",
       "    }\n",
       "\n",
       "    .dataframe thead th {\n",
       "        text-align: right;\n",
       "    }\n",
       "</style>\n",
       "<table border=\"1\" class=\"dataframe\">\n",
       "  <thead>\n",
       "    <tr style=\"text-align: right;\">\n",
       "      <th></th>\n",
       "      <th>dt</th>\n",
       "      <th>loc</th>\n",
       "      <th>lat</th>\n",
       "      <th>long</th>\n",
       "      <th>so2</th>\n",
       "      <th>no2</th>\n",
       "      <th>co</th>\n",
       "      <th>o3</th>\n",
       "      <th>pm10</th>\n",
       "      <th>pm2.5</th>\n",
       "    </tr>\n",
       "  </thead>\n",
       "  <tbody>\n",
       "    <tr>\n",
       "      <th>0</th>\n",
       "      <td>2001-08-08</td>\n",
       "      <td>103</td>\n",
       "      <td>37.540037</td>\n",
       "      <td>127.002661</td>\n",
       "      <td>0.003</td>\n",
       "      <td>0.035</td>\n",
       "      <td>0.2</td>\n",
       "      <td>0.027</td>\n",
       "      <td>54.0</td>\n",
       "      <td>32.0</td>\n",
       "    </tr>\n",
       "    <tr>\n",
       "      <th>1</th>\n",
       "      <td>2001-09-12</td>\n",
       "      <td>103</td>\n",
       "      <td>37.540037</td>\n",
       "      <td>127.002661</td>\n",
       "      <td>0.004</td>\n",
       "      <td>0.024</td>\n",
       "      <td>0.2</td>\n",
       "      <td>0.026</td>\n",
       "      <td>65.0</td>\n",
       "      <td>48.0</td>\n",
       "    </tr>\n",
       "    <tr>\n",
       "      <th>2</th>\n",
       "      <td>2001-10-01</td>\n",
       "      <td>103</td>\n",
       "      <td>37.540037</td>\n",
       "      <td>127.002661</td>\n",
       "      <td>0.004</td>\n",
       "      <td>0.023</td>\n",
       "      <td>0.3</td>\n",
       "      <td>0.006</td>\n",
       "      <td>18.0</td>\n",
       "      <td>9.0</td>\n",
       "    </tr>\n",
       "    <tr>\n",
       "      <th>3</th>\n",
       "      <td>2001-11-01</td>\n",
       "      <td>103</td>\n",
       "      <td>37.540037</td>\n",
       "      <td>127.002661</td>\n",
       "      <td>0.003</td>\n",
       "      <td>0.014</td>\n",
       "      <td>0.3</td>\n",
       "      <td>0.022</td>\n",
       "      <td>33.0</td>\n",
       "      <td>19.0</td>\n",
       "    </tr>\n",
       "    <tr>\n",
       "      <th>4</th>\n",
       "      <td>2001-12-01</td>\n",
       "      <td>103</td>\n",
       "      <td>37.540037</td>\n",
       "      <td>127.002661</td>\n",
       "      <td>0.003</td>\n",
       "      <td>0.031</td>\n",
       "      <td>0.3</td>\n",
       "      <td>0.013</td>\n",
       "      <td>33.0</td>\n",
       "      <td>10.0</td>\n",
       "    </tr>\n",
       "  </tbody>\n",
       "</table>\n",
       "</div>"
      ],
      "text/plain": [
       "          dt  loc        lat        long    so2    no2   co     o3  pm10  \\\n",
       "0 2001-08-08  103  37.540037  127.002661  0.003  0.035  0.2  0.027  54.0   \n",
       "1 2001-09-12  103  37.540037  127.002661  0.004  0.024  0.2  0.026  65.0   \n",
       "2 2001-10-01  103  37.540037  127.002661  0.004  0.023  0.3  0.006  18.0   \n",
       "3 2001-11-01  103  37.540037  127.002661  0.003  0.014  0.3  0.022  33.0   \n",
       "4 2001-12-01  103  37.540037  127.002661  0.003  0.031  0.3  0.013  33.0   \n",
       "\n",
       "   pm2.5  \n",
       "0   32.0  \n",
       "1   48.0  \n",
       "2    9.0  \n",
       "3   19.0  \n",
       "4   10.0  "
      ]
     },
     "execution_count": 526,
     "metadata": {},
     "output_type": "execute_result"
    }
   ],
   "source": [
    "cleaning_df_pd = cleaning_df_pd.groupby( (cleaning_df_pd['dt']).dt.to_period('M')).first().reset_index(drop=True)\n",
    "cleaning_df_pd.head(5)"
   ]
  },
  {
   "cell_type": "code",
   "execution_count": 527,
   "metadata": {},
   "outputs": [
    {
     "data": {
      "text/plain": [
       "243"
      ]
     },
     "execution_count": 527,
     "metadata": {},
     "output_type": "execute_result"
    }
   ],
   "source": [
    "row_count = len(cleaning_df_pd)\n",
    "row_count \n"
   ]
  },
  {
   "cell_type": "markdown",
   "metadata": {},
   "source": [
    "### **Remove unnecessary variables and combine datasets**\n",
    "\n",
    "Depending on the datasets, you can also peform the combination before the cleaning steps."
   ]
  },
  {
   "cell_type": "code",
   "execution_count": 528,
   "metadata": {},
   "outputs": [
    {
     "name": "stdout",
     "output_type": "stream",
     "text": [
      "<class 'pandas.core.frame.DataFrame'>\n",
      "Index: 10968 entries, 0 to 10971\n",
      "Data columns (total 24 columns):\n",
      " #   Column            Non-Null Count  Dtype         \n",
      "---  ------            --------------  -----         \n",
      " 0   name              10968 non-null  object        \n",
      " 1   datetime          10968 non-null  datetime64[ns]\n",
      " 2   tempmax           10968 non-null  float64       \n",
      " 3   tempmin           10968 non-null  float64       \n",
      " 4   temp              10968 non-null  float64       \n",
      " 5   feelslikemax      10968 non-null  float64       \n",
      " 6   feelslikemin      10968 non-null  float64       \n",
      " 7   feelslike         10968 non-null  float64       \n",
      " 8   dew               10968 non-null  float64       \n",
      " 9   humidity          10968 non-null  float64       \n",
      " 10  precip            10968 non-null  float64       \n",
      " 11  precipprob        10968 non-null  int64         \n",
      " 12  precipcover       10968 non-null  float64       \n",
      " 13  windspeed         10968 non-null  float64       \n",
      " 14  winddir           10968 non-null  float64       \n",
      " 15  sealevelpressure  10968 non-null  float64       \n",
      " 16  cloudcover        10968 non-null  float64       \n",
      " 17  visibility        10968 non-null  float64       \n",
      " 18  sunrise           10968 non-null  datetime64[ns]\n",
      " 19  sunset            10968 non-null  datetime64[ns]\n",
      " 20  moonphase         10968 non-null  float64       \n",
      " 21  conditions        10968 non-null  object        \n",
      " 22  description       10968 non-null  object        \n",
      " 23  icon              10968 non-null  object        \n",
      "dtypes: datetime64[ns](3), float64(16), int64(1), object(4)\n",
      "memory usage: 2.1+ MB\n"
     ]
    }
   ],
   "source": [
    "cleaning_df_wd.info()"
   ]
  },
  {
   "cell_type": "code",
   "execution_count": 529,
   "metadata": {},
   "outputs": [
    {
     "data": {
      "text/html": [
       "<div>\n",
       "<style scoped>\n",
       "    .dataframe tbody tr th:only-of-type {\n",
       "        vertical-align: middle;\n",
       "    }\n",
       "\n",
       "    .dataframe tbody tr th {\n",
       "        vertical-align: top;\n",
       "    }\n",
       "\n",
       "    .dataframe thead th {\n",
       "        text-align: right;\n",
       "    }\n",
       "</style>\n",
       "<table border=\"1\" class=\"dataframe\">\n",
       "  <thead>\n",
       "    <tr style=\"text-align: right;\">\n",
       "      <th></th>\n",
       "      <th>name</th>\n",
       "      <th>datetime</th>\n",
       "      <th>temp</th>\n",
       "    </tr>\n",
       "  </thead>\n",
       "  <tbody>\n",
       "    <tr>\n",
       "      <th>0</th>\n",
       "      <td>seoul</td>\n",
       "      <td>1994-01-01</td>\n",
       "      <td>26.3</td>\n",
       "    </tr>\n",
       "    <tr>\n",
       "      <th>1</th>\n",
       "      <td>seoul</td>\n",
       "      <td>1994-01-02</td>\n",
       "      <td>36.2</td>\n",
       "    </tr>\n",
       "    <tr>\n",
       "      <th>2</th>\n",
       "      <td>seoul</td>\n",
       "      <td>1994-01-03</td>\n",
       "      <td>38.0</td>\n",
       "    </tr>\n",
       "    <tr>\n",
       "      <th>3</th>\n",
       "      <td>seoul</td>\n",
       "      <td>1994-01-04</td>\n",
       "      <td>30.1</td>\n",
       "    </tr>\n",
       "    <tr>\n",
       "      <th>4</th>\n",
       "      <td>seoul</td>\n",
       "      <td>1994-01-05</td>\n",
       "      <td>33.1</td>\n",
       "    </tr>\n",
       "  </tbody>\n",
       "</table>\n",
       "</div>"
      ],
      "text/plain": [
       "    name   datetime  temp\n",
       "0  seoul 1994-01-01  26.3\n",
       "1  seoul 1994-01-02  36.2\n",
       "2  seoul 1994-01-03  38.0\n",
       "3  seoul 1994-01-04  30.1\n",
       "4  seoul 1994-01-05  33.1"
      ]
     },
     "execution_count": 529,
     "metadata": {},
     "output_type": "execute_result"
    }
   ],
   "source": [
    "#  filtering out columns so that we have only columns that we need in the weather data\n",
    "cleaning_df_wd = cleaning_df_wd[['name' , 'datetime' , 'temp']] \n",
    "cleaning_df_wd.head(5)\n"
   ]
  },
  {
   "cell_type": "code",
   "execution_count": 530,
   "metadata": {},
   "outputs": [
    {
     "name": "stdout",
     "output_type": "stream",
     "text": [
      "<class 'pandas.core.frame.DataFrame'>\n",
      "Index: 10968 entries, 0 to 10971\n",
      "Data columns (total 3 columns):\n",
      " #   Column    Non-Null Count  Dtype         \n",
      "---  ------    --------------  -----         \n",
      " 0   name      10968 non-null  object        \n",
      " 1   datetime  10968 non-null  datetime64[ns]\n",
      " 2   temp      10968 non-null  float64       \n",
      "dtypes: datetime64[ns](1), float64(1), object(1)\n",
      "memory usage: 342.8+ KB\n"
     ]
    }
   ],
   "source": [
    "cleaning_df_wd.info()"
   ]
  },
  {
   "cell_type": "code",
   "execution_count": 531,
   "metadata": {},
   "outputs": [
    {
     "data": {
      "text/html": [
       "<div>\n",
       "<style scoped>\n",
       "    .dataframe tbody tr th:only-of-type {\n",
       "        vertical-align: middle;\n",
       "    }\n",
       "\n",
       "    .dataframe tbody tr th {\n",
       "        vertical-align: top;\n",
       "    }\n",
       "\n",
       "    .dataframe thead th {\n",
       "        text-align: right;\n",
       "    }\n",
       "</style>\n",
       "<table border=\"1\" class=\"dataframe\">\n",
       "  <thead>\n",
       "    <tr style=\"text-align: right;\">\n",
       "      <th></th>\n",
       "      <th>name</th>\n",
       "      <th>date</th>\n",
       "      <th>temp</th>\n",
       "    </tr>\n",
       "  </thead>\n",
       "  <tbody>\n",
       "    <tr>\n",
       "      <th>0</th>\n",
       "      <td>seoul</td>\n",
       "      <td>1994-01-01</td>\n",
       "      <td>26.3</td>\n",
       "    </tr>\n",
       "    <tr>\n",
       "      <th>1</th>\n",
       "      <td>seoul</td>\n",
       "      <td>1994-01-02</td>\n",
       "      <td>36.2</td>\n",
       "    </tr>\n",
       "  </tbody>\n",
       "</table>\n",
       "</div>"
      ],
      "text/plain": [
       "    name       date  temp\n",
       "0  seoul 1994-01-01  26.3\n",
       "1  seoul 1994-01-02  36.2"
      ]
     },
     "execution_count": 531,
     "metadata": {},
     "output_type": "execute_result"
    }
   ],
   "source": [
    "cleaning_df_wd =cleaning_df_wd.rename(columns={'datetime':'date'} )\n",
    "cleaning_df_wd.head(2)"
   ]
  },
  {
   "cell_type": "code",
   "execution_count": 532,
   "metadata": {},
   "outputs": [],
   "source": [
    "# Sort by date just in case\n",
    "cleaning_df_wd = cleaning_df_wd.sort_values('date', ascending= True)"
   ]
  },
  {
   "cell_type": "code",
   "execution_count": 533,
   "metadata": {},
   "outputs": [],
   "source": [
    "cleaning_df_wd = cleaning_df_wd.groupby(cleaning_df_wd['date'].dt.to_period('M')).first().reset_index(drop=True)"
   ]
  },
  {
   "cell_type": "code",
   "execution_count": 534,
   "metadata": {},
   "outputs": [
    {
     "data": {
      "text/html": [
       "<div>\n",
       "<style scoped>\n",
       "    .dataframe tbody tr th:only-of-type {\n",
       "        vertical-align: middle;\n",
       "    }\n",
       "\n",
       "    .dataframe tbody tr th {\n",
       "        vertical-align: top;\n",
       "    }\n",
       "\n",
       "    .dataframe thead th {\n",
       "        text-align: right;\n",
       "    }\n",
       "</style>\n",
       "<table border=\"1\" class=\"dataframe\">\n",
       "  <thead>\n",
       "    <tr style=\"text-align: right;\">\n",
       "      <th></th>\n",
       "      <th>name</th>\n",
       "      <th>date</th>\n",
       "      <th>temp</th>\n",
       "    </tr>\n",
       "  </thead>\n",
       "  <tbody>\n",
       "    <tr>\n",
       "      <th>0</th>\n",
       "      <td>seoul</td>\n",
       "      <td>1994-01-01</td>\n",
       "      <td>26.3</td>\n",
       "    </tr>\n",
       "    <tr>\n",
       "      <th>1</th>\n",
       "      <td>seoul</td>\n",
       "      <td>1994-02-01</td>\n",
       "      <td>32.8</td>\n",
       "    </tr>\n",
       "    <tr>\n",
       "      <th>2</th>\n",
       "      <td>seoul</td>\n",
       "      <td>1994-03-01</td>\n",
       "      <td>30.0</td>\n",
       "    </tr>\n",
       "  </tbody>\n",
       "</table>\n",
       "</div>"
      ],
      "text/plain": [
       "    name       date  temp\n",
       "0  seoul 1994-01-01  26.3\n",
       "1  seoul 1994-02-01  32.8\n",
       "2  seoul 1994-03-01  30.0"
      ]
     },
     "execution_count": 534,
     "metadata": {},
     "output_type": "execute_result"
    }
   ],
   "source": [
    "#\n",
    "cleaning_df_wd.head(3)\n"
   ]
  },
  {
   "cell_type": "code",
   "execution_count": 535,
   "metadata": {},
   "outputs": [
    {
     "name": "stdout",
     "output_type": "stream",
     "text": [
      "<class 'pandas.core.frame.DataFrame'>\n",
      "Index: 245 entries, 91 to 335\n",
      "Data columns (total 5 columns):\n",
      " #   Column   Non-Null Count  Dtype  \n",
      "---  ------   --------------  -----  \n",
      " 0   name     245 non-null    object \n",
      " 1   date     245 non-null    object \n",
      " 2   tempmax  245 non-null    float64\n",
      " 3   tempmin  245 non-null    float64\n",
      " 4   temp     245 non-null    float64\n",
      "dtypes: float64(3), object(2)\n",
      "memory usage: 11.5+ KB\n"
     ]
    }
   ],
   "source": [
    "# We have Air pollution data from 2001-8-8 to 2021-12-31\n",
    "# Filtering the weather data \n",
    "\n",
    "cleaning_df_wd = cleaning_df_wd[ ( cleaning_df_wd['date'].dt.year >= 2001 ) & ( cleaning_df_wd['date'].dt.year <= 2021 )]\n",
    "dfwc.info()"
   ]
  },
  {
   "cell_type": "code",
   "execution_count": 536,
   "metadata": {},
   "outputs": [
    {
     "data": {
      "text/html": [
       "<div>\n",
       "<style scoped>\n",
       "    .dataframe tbody tr th:only-of-type {\n",
       "        vertical-align: middle;\n",
       "    }\n",
       "\n",
       "    .dataframe tbody tr th {\n",
       "        vertical-align: top;\n",
       "    }\n",
       "\n",
       "    .dataframe thead th {\n",
       "        text-align: right;\n",
       "    }\n",
       "</style>\n",
       "<table border=\"1\" class=\"dataframe\">\n",
       "  <thead>\n",
       "    <tr style=\"text-align: right;\">\n",
       "      <th></th>\n",
       "      <th>name</th>\n",
       "      <th>date</th>\n",
       "      <th>temp</th>\n",
       "    </tr>\n",
       "  </thead>\n",
       "  <tbody>\n",
       "    <tr>\n",
       "      <th>84</th>\n",
       "      <td>seoul</td>\n",
       "      <td>2001-01-01</td>\n",
       "      <td>22.2</td>\n",
       "    </tr>\n",
       "    <tr>\n",
       "      <th>85</th>\n",
       "      <td>seoul</td>\n",
       "      <td>2001-02-01</td>\n",
       "      <td>21.8</td>\n",
       "    </tr>\n",
       "  </tbody>\n",
       "</table>\n",
       "</div>"
      ],
      "text/plain": [
       "     name       date  temp\n",
       "84  seoul 2001-01-01  22.2\n",
       "85  seoul 2001-02-01  21.8"
      ]
     },
     "execution_count": 536,
     "metadata": {},
     "output_type": "execute_result"
    }
   ],
   "source": [
    "#  starting date in the weather data 2001-01-01\n",
    "cleaning_df_wd.sort_values( by='date', ascending=True).head(2)"
   ]
  },
  {
   "cell_type": "code",
   "execution_count": 537,
   "metadata": {},
   "outputs": [],
   "source": [
    "cleaning_df_wd = cleaning_df_wd[cleaning_df_wd['date'] >= '2001-08-01']"
   ]
  },
  {
   "cell_type": "code",
   "execution_count": 538,
   "metadata": {},
   "outputs": [
    {
     "data": {
      "text/html": [
       "<div>\n",
       "<style scoped>\n",
       "    .dataframe tbody tr th:only-of-type {\n",
       "        vertical-align: middle;\n",
       "    }\n",
       "\n",
       "    .dataframe tbody tr th {\n",
       "        vertical-align: top;\n",
       "    }\n",
       "\n",
       "    .dataframe thead th {\n",
       "        text-align: right;\n",
       "    }\n",
       "</style>\n",
       "<table border=\"1\" class=\"dataframe\">\n",
       "  <thead>\n",
       "    <tr style=\"text-align: right;\">\n",
       "      <th></th>\n",
       "      <th>name</th>\n",
       "      <th>date</th>\n",
       "      <th>temp</th>\n",
       "    </tr>\n",
       "  </thead>\n",
       "  <tbody>\n",
       "    <tr>\n",
       "      <th>91</th>\n",
       "      <td>seoul</td>\n",
       "      <td>2001-08-01</td>\n",
       "      <td>81.7</td>\n",
       "    </tr>\n",
       "    <tr>\n",
       "      <th>92</th>\n",
       "      <td>seoul</td>\n",
       "      <td>2001-09-01</td>\n",
       "      <td>77.3</td>\n",
       "    </tr>\n",
       "    <tr>\n",
       "      <th>93</th>\n",
       "      <td>seoul</td>\n",
       "      <td>2001-10-01</td>\n",
       "      <td>59.4</td>\n",
       "    </tr>\n",
       "    <tr>\n",
       "      <th>94</th>\n",
       "      <td>seoul</td>\n",
       "      <td>2001-11-01</td>\n",
       "      <td>54.7</td>\n",
       "    </tr>\n",
       "    <tr>\n",
       "      <th>95</th>\n",
       "      <td>seoul</td>\n",
       "      <td>2001-12-01</td>\n",
       "      <td>36.0</td>\n",
       "    </tr>\n",
       "  </tbody>\n",
       "</table>\n",
       "</div>"
      ],
      "text/plain": [
       "     name       date  temp\n",
       "91  seoul 2001-08-01  81.7\n",
       "92  seoul 2001-09-01  77.3\n",
       "93  seoul 2001-10-01  59.4\n",
       "94  seoul 2001-11-01  54.7\n",
       "95  seoul 2001-12-01  36.0"
      ]
     },
     "execution_count": 538,
     "metadata": {},
     "output_type": "execute_result"
    }
   ],
   "source": [
    "#  last date in the weather data 2021-11-01\n",
    "cleaning_df_wd.sort_values( by='date', ascending=True).head(5)"
   ]
  },
  {
   "cell_type": "code",
   "execution_count": 539,
   "metadata": {},
   "outputs": [],
   "source": [
    "cleaning_df_wd['date'] = cleaning_df_wd['date'].dt.strftime('%Y-%m')"
   ]
  },
  {
   "cell_type": "code",
   "execution_count": 540,
   "metadata": {},
   "outputs": [
    {
     "data": {
      "text/html": [
       "<div>\n",
       "<style scoped>\n",
       "    .dataframe tbody tr th:only-of-type {\n",
       "        vertical-align: middle;\n",
       "    }\n",
       "\n",
       "    .dataframe tbody tr th {\n",
       "        vertical-align: top;\n",
       "    }\n",
       "\n",
       "    .dataframe thead th {\n",
       "        text-align: right;\n",
       "    }\n",
       "</style>\n",
       "<table border=\"1\" class=\"dataframe\">\n",
       "  <thead>\n",
       "    <tr style=\"text-align: right;\">\n",
       "      <th></th>\n",
       "      <th>name</th>\n",
       "      <th>date</th>\n",
       "      <th>temp</th>\n",
       "    </tr>\n",
       "  </thead>\n",
       "  <tbody>\n",
       "    <tr>\n",
       "      <th>91</th>\n",
       "      <td>seoul</td>\n",
       "      <td>2001-08</td>\n",
       "      <td>81.7</td>\n",
       "    </tr>\n",
       "    <tr>\n",
       "      <th>92</th>\n",
       "      <td>seoul</td>\n",
       "      <td>2001-09</td>\n",
       "      <td>77.3</td>\n",
       "    </tr>\n",
       "    <tr>\n",
       "      <th>93</th>\n",
       "      <td>seoul</td>\n",
       "      <td>2001-10</td>\n",
       "      <td>59.4</td>\n",
       "    </tr>\n",
       "    <tr>\n",
       "      <th>94</th>\n",
       "      <td>seoul</td>\n",
       "      <td>2001-11</td>\n",
       "      <td>54.7</td>\n",
       "    </tr>\n",
       "    <tr>\n",
       "      <th>95</th>\n",
       "      <td>seoul</td>\n",
       "      <td>2001-12</td>\n",
       "      <td>36.0</td>\n",
       "    </tr>\n",
       "  </tbody>\n",
       "</table>\n",
       "</div>"
      ],
      "text/plain": [
       "     name     date  temp\n",
       "91  seoul  2001-08  81.7\n",
       "92  seoul  2001-09  77.3\n",
       "93  seoul  2001-10  59.4\n",
       "94  seoul  2001-11  54.7\n",
       "95  seoul  2001-12  36.0"
      ]
     },
     "execution_count": 540,
     "metadata": {},
     "output_type": "execute_result"
    }
   ],
   "source": [
    "cleaning_df_wd.sort_values( by='date', ascending=True).head(5)"
   ]
  },
  {
   "cell_type": "code",
   "execution_count": 541,
   "metadata": {},
   "outputs": [
    {
     "name": "stdout",
     "output_type": "stream",
     "text": [
      "total rows in weather data = 245\n"
     ]
    }
   ],
   "source": [
    "row_count= len(cleaning_df_wd)\n",
    "print('total rows in weather data =',row_count)"
   ]
  },
  {
   "cell_type": "code",
   "execution_count": 542,
   "metadata": {},
   "outputs": [
    {
     "name": "stdout",
     "output_type": "stream",
     "text": [
      "total rows in Pollution data = 243\n"
     ]
    }
   ],
   "source": [
    "row_count= len(cleaning_df_pd)\n",
    "print('total rows in Pollution data =',row_count)"
   ]
  },
  {
   "cell_type": "code",
   "execution_count": 543,
   "metadata": {},
   "outputs": [
    {
     "data": {
      "text/html": [
       "<div>\n",
       "<style scoped>\n",
       "    .dataframe tbody tr th:only-of-type {\n",
       "        vertical-align: middle;\n",
       "    }\n",
       "\n",
       "    .dataframe tbody tr th {\n",
       "        vertical-align: top;\n",
       "    }\n",
       "\n",
       "    .dataframe thead th {\n",
       "        text-align: right;\n",
       "    }\n",
       "</style>\n",
       "<table border=\"1\" class=\"dataframe\">\n",
       "  <thead>\n",
       "    <tr style=\"text-align: right;\">\n",
       "      <th></th>\n",
       "      <th>dt</th>\n",
       "      <th>so2</th>\n",
       "      <th>no2</th>\n",
       "      <th>co</th>\n",
       "      <th>o3</th>\n",
       "      <th>pm10</th>\n",
       "      <th>pm2.5</th>\n",
       "    </tr>\n",
       "  </thead>\n",
       "  <tbody>\n",
       "    <tr>\n",
       "      <th>0</th>\n",
       "      <td>2001-08-08</td>\n",
       "      <td>0.003</td>\n",
       "      <td>0.035</td>\n",
       "      <td>0.2</td>\n",
       "      <td>0.027</td>\n",
       "      <td>54.0</td>\n",
       "      <td>32.0</td>\n",
       "    </tr>\n",
       "    <tr>\n",
       "      <th>1</th>\n",
       "      <td>2001-09-12</td>\n",
       "      <td>0.004</td>\n",
       "      <td>0.024</td>\n",
       "      <td>0.2</td>\n",
       "      <td>0.026</td>\n",
       "      <td>65.0</td>\n",
       "      <td>48.0</td>\n",
       "    </tr>\n",
       "  </tbody>\n",
       "</table>\n",
       "</div>"
      ],
      "text/plain": [
       "          dt    so2    no2   co     o3  pm10  pm2.5\n",
       "0 2001-08-08  0.003  0.035  0.2  0.027  54.0   32.0\n",
       "1 2001-09-12  0.004  0.024  0.2  0.026  65.0   48.0"
      ]
     },
     "execution_count": 543,
     "metadata": {},
     "output_type": "execute_result"
    }
   ],
   "source": [
    "# drop irrelavent columns loc , lat , long\n",
    "cleaning_df_pd.drop(columns=['loc', 'lat', 'long'],inplace=True)\n",
    "cleaning_df_pd.head(2)"
   ]
  },
  {
   "cell_type": "code",
   "execution_count": 544,
   "metadata": {},
   "outputs": [
    {
     "data": {
      "text/html": [
       "<div>\n",
       "<style scoped>\n",
       "    .dataframe tbody tr th:only-of-type {\n",
       "        vertical-align: middle;\n",
       "    }\n",
       "\n",
       "    .dataframe tbody tr th {\n",
       "        vertical-align: top;\n",
       "    }\n",
       "\n",
       "    .dataframe thead th {\n",
       "        text-align: right;\n",
       "    }\n",
       "</style>\n",
       "<table border=\"1\" class=\"dataframe\">\n",
       "  <thead>\n",
       "    <tr style=\"text-align: right;\">\n",
       "      <th></th>\n",
       "      <th>dt</th>\n",
       "      <th>so2</th>\n",
       "      <th>no2</th>\n",
       "      <th>co</th>\n",
       "      <th>o3</th>\n",
       "      <th>pm10</th>\n",
       "      <th>pm2.5</th>\n",
       "    </tr>\n",
       "  </thead>\n",
       "  <tbody>\n",
       "    <tr>\n",
       "      <th>0</th>\n",
       "      <td>2001-08-08</td>\n",
       "      <td>0.003</td>\n",
       "      <td>0.035</td>\n",
       "      <td>0.2</td>\n",
       "      <td>0.027</td>\n",
       "      <td>54.0</td>\n",
       "      <td>32.0</td>\n",
       "    </tr>\n",
       "    <tr>\n",
       "      <th>1</th>\n",
       "      <td>2001-09-12</td>\n",
       "      <td>0.004</td>\n",
       "      <td>0.024</td>\n",
       "      <td>0.2</td>\n",
       "      <td>0.026</td>\n",
       "      <td>65.0</td>\n",
       "      <td>48.0</td>\n",
       "    </tr>\n",
       "    <tr>\n",
       "      <th>2</th>\n",
       "      <td>2001-10-01</td>\n",
       "      <td>0.004</td>\n",
       "      <td>0.023</td>\n",
       "      <td>0.3</td>\n",
       "      <td>0.006</td>\n",
       "      <td>18.0</td>\n",
       "      <td>9.0</td>\n",
       "    </tr>\n",
       "    <tr>\n",
       "      <th>3</th>\n",
       "      <td>2001-11-01</td>\n",
       "      <td>0.003</td>\n",
       "      <td>0.014</td>\n",
       "      <td>0.3</td>\n",
       "      <td>0.022</td>\n",
       "      <td>33.0</td>\n",
       "      <td>19.0</td>\n",
       "    </tr>\n",
       "    <tr>\n",
       "      <th>4</th>\n",
       "      <td>2001-12-01</td>\n",
       "      <td>0.003</td>\n",
       "      <td>0.031</td>\n",
       "      <td>0.3</td>\n",
       "      <td>0.013</td>\n",
       "      <td>33.0</td>\n",
       "      <td>10.0</td>\n",
       "    </tr>\n",
       "  </tbody>\n",
       "</table>\n",
       "</div>"
      ],
      "text/plain": [
       "          dt    so2    no2   co     o3  pm10  pm2.5\n",
       "0 2001-08-08  0.003  0.035  0.2  0.027  54.0   32.0\n",
       "1 2001-09-12  0.004  0.024  0.2  0.026  65.0   48.0\n",
       "2 2001-10-01  0.004  0.023  0.3  0.006  18.0    9.0\n",
       "3 2001-11-01  0.003  0.014  0.3  0.022  33.0   19.0\n",
       "4 2001-12-01  0.003  0.031  0.3  0.013  33.0   10.0"
      ]
     },
     "execution_count": 544,
     "metadata": {},
     "output_type": "execute_result"
    }
   ],
   "source": [
    "#  starting date in the pollution data 2001-8-8\n",
    "cleaning_df_pd.sort_values( by='dt', ascending=True).head(5)"
   ]
  },
  {
   "cell_type": "code",
   "execution_count": 545,
   "metadata": {},
   "outputs": [
    {
     "data": {
      "text/html": [
       "<div>\n",
       "<style scoped>\n",
       "    .dataframe tbody tr th:only-of-type {\n",
       "        vertical-align: middle;\n",
       "    }\n",
       "\n",
       "    .dataframe tbody tr th {\n",
       "        vertical-align: top;\n",
       "    }\n",
       "\n",
       "    .dataframe thead th {\n",
       "        text-align: right;\n",
       "    }\n",
       "</style>\n",
       "<table border=\"1\" class=\"dataframe\">\n",
       "  <thead>\n",
       "    <tr style=\"text-align: right;\">\n",
       "      <th></th>\n",
       "      <th>dt</th>\n",
       "      <th>so2</th>\n",
       "      <th>no2</th>\n",
       "      <th>co</th>\n",
       "      <th>o3</th>\n",
       "      <th>pm10</th>\n",
       "      <th>pm2.5</th>\n",
       "    </tr>\n",
       "  </thead>\n",
       "  <tbody>\n",
       "    <tr>\n",
       "      <th>242</th>\n",
       "      <td>2021-12-01</td>\n",
       "      <td>0.003</td>\n",
       "      <td>0.007</td>\n",
       "      <td>0.3</td>\n",
       "      <td>0.024</td>\n",
       "      <td>21.0</td>\n",
       "      <td>13.0</td>\n",
       "    </tr>\n",
       "    <tr>\n",
       "      <th>241</th>\n",
       "      <td>2021-11-01</td>\n",
       "      <td>0.003</td>\n",
       "      <td>0.041</td>\n",
       "      <td>0.6</td>\n",
       "      <td>0.003</td>\n",
       "      <td>30.0</td>\n",
       "      <td>25.0</td>\n",
       "    </tr>\n",
       "  </tbody>\n",
       "</table>\n",
       "</div>"
      ],
      "text/plain": [
       "            dt    so2    no2   co     o3  pm10  pm2.5\n",
       "242 2021-12-01  0.003  0.007  0.3  0.024  21.0   13.0\n",
       "241 2021-11-01  0.003  0.041  0.6  0.003  30.0   25.0"
      ]
     },
     "execution_count": 545,
     "metadata": {},
     "output_type": "execute_result"
    }
   ],
   "source": [
    "# last date in the polution 2021-12-31\n",
    "cleaning_df_pd.sort_values( by='dt', ascending=False).head(2)"
   ]
  },
  {
   "cell_type": "code",
   "execution_count": 546,
   "metadata": {},
   "outputs": [],
   "source": [
    "cleaning_df_pd['dt'] = cleaning_df_pd['dt'].dt.strftime('%Y-%m')"
   ]
  },
  {
   "cell_type": "code",
   "execution_count": 547,
   "metadata": {},
   "outputs": [],
   "source": [
    "cleaning_df_pd = cleaning_df_pd.rename(columns =  {'dt' : 'date' } )"
   ]
  },
  {
   "cell_type": "code",
   "execution_count": 548,
   "metadata": {},
   "outputs": [
    {
     "data": {
      "text/html": [
       "<div>\n",
       "<style scoped>\n",
       "    .dataframe tbody tr th:only-of-type {\n",
       "        vertical-align: middle;\n",
       "    }\n",
       "\n",
       "    .dataframe tbody tr th {\n",
       "        vertical-align: top;\n",
       "    }\n",
       "\n",
       "    .dataframe thead th {\n",
       "        text-align: right;\n",
       "    }\n",
       "</style>\n",
       "<table border=\"1\" class=\"dataframe\">\n",
       "  <thead>\n",
       "    <tr style=\"text-align: right;\">\n",
       "      <th></th>\n",
       "      <th>date</th>\n",
       "      <th>so2</th>\n",
       "      <th>no2</th>\n",
       "      <th>co</th>\n",
       "      <th>o3</th>\n",
       "      <th>pm10</th>\n",
       "      <th>pm2.5</th>\n",
       "    </tr>\n",
       "  </thead>\n",
       "  <tbody>\n",
       "    <tr>\n",
       "      <th>0</th>\n",
       "      <td>2001-08</td>\n",
       "      <td>0.003</td>\n",
       "      <td>0.035</td>\n",
       "      <td>0.2</td>\n",
       "      <td>0.027</td>\n",
       "      <td>54.0</td>\n",
       "      <td>32.0</td>\n",
       "    </tr>\n",
       "    <tr>\n",
       "      <th>1</th>\n",
       "      <td>2001-09</td>\n",
       "      <td>0.004</td>\n",
       "      <td>0.024</td>\n",
       "      <td>0.2</td>\n",
       "      <td>0.026</td>\n",
       "      <td>65.0</td>\n",
       "      <td>48.0</td>\n",
       "    </tr>\n",
       "    <tr>\n",
       "      <th>2</th>\n",
       "      <td>2001-10</td>\n",
       "      <td>0.004</td>\n",
       "      <td>0.023</td>\n",
       "      <td>0.3</td>\n",
       "      <td>0.006</td>\n",
       "      <td>18.0</td>\n",
       "      <td>9.0</td>\n",
       "    </tr>\n",
       "    <tr>\n",
       "      <th>3</th>\n",
       "      <td>2001-11</td>\n",
       "      <td>0.003</td>\n",
       "      <td>0.014</td>\n",
       "      <td>0.3</td>\n",
       "      <td>0.022</td>\n",
       "      <td>33.0</td>\n",
       "      <td>19.0</td>\n",
       "    </tr>\n",
       "    <tr>\n",
       "      <th>4</th>\n",
       "      <td>2001-12</td>\n",
       "      <td>0.003</td>\n",
       "      <td>0.031</td>\n",
       "      <td>0.3</td>\n",
       "      <td>0.013</td>\n",
       "      <td>33.0</td>\n",
       "      <td>10.0</td>\n",
       "    </tr>\n",
       "  </tbody>\n",
       "</table>\n",
       "</div>"
      ],
      "text/plain": [
       "      date    so2    no2   co     o3  pm10  pm2.5\n",
       "0  2001-08  0.003  0.035  0.2  0.027  54.0   32.0\n",
       "1  2001-09  0.004  0.024  0.2  0.026  65.0   48.0\n",
       "2  2001-10  0.004  0.023  0.3  0.006  18.0    9.0\n",
       "3  2001-11  0.003  0.014  0.3  0.022  33.0   19.0\n",
       "4  2001-12  0.003  0.031  0.3  0.013  33.0   10.0"
      ]
     },
     "execution_count": 548,
     "metadata": {},
     "output_type": "execute_result"
    }
   ],
   "source": [
    "cleaning_df_pd.head(5)"
   ]
  },
  {
   "cell_type": "code",
   "execution_count": 549,
   "metadata": {},
   "outputs": [
    {
     "name": "stdout",
     "output_type": "stream",
     "text": [
      "243\n"
     ]
    }
   ],
   "source": [
    "row_count = len(cleaning_df_pd)\n",
    "print(row_count)"
   ]
  },
  {
   "cell_type": "code",
   "execution_count": 550,
   "metadata": {},
   "outputs": [
    {
     "name": "stdout",
     "output_type": "stream",
     "text": [
      "Number of rows after inner join: 243\n",
      "Sample of combined data:\n",
      "    name     date  temp    so2    no2   co     o3  pm10  pm2.5\n",
      "0  seoul  2001-08  81.7  0.003  0.035  0.2  0.027  54.0   32.0\n",
      "1  seoul  2001-09  77.3  0.004  0.024  0.2  0.026  65.0   48.0\n",
      "2  seoul  2001-10  59.4  0.004  0.023  0.3  0.006  18.0    9.0\n",
      "3  seoul  2001-11  54.7  0.003  0.014  0.3  0.022  33.0   19.0\n",
      "4  seoul  2001-12  36.0  0.003  0.031  0.3  0.013  33.0   10.0\n"
     ]
    }
   ],
   "source": [
    "# Perform inner join on the 'date' column\n",
    "combined_df = pd.merge(\n",
    "    cleaning_df_wd,\n",
    "    cleaning_df_pd,\n",
    "    on='date',\n",
    "    how='inner'  # This is the crucial change for inner join\n",
    ")\n",
    "\n",
    "# Verify the results\n",
    "print(f\"Number of rows after inner join: {len(combined_df)}\")\n",
    "print(\"Sample of combined data:\")\n",
    "print(combined_df.head(5))"
   ]
  },
  {
   "cell_type": "markdown",
   "metadata": {
    "id": "F42urHuzttjF"
   },
   "source": [
    "## 4. Update your data store\n",
    "Update your local database/data store with the cleaned data, following best practices for storing your cleaned data:\n",
    "\n",
    "- Must maintain different instances / versions of data (raw and cleaned data)\n",
    "- Must name the dataset files informatively\n",
    "- Ensure both the raw and cleaned data is saved to your database/data store"
   ]
  },
  {
   "cell_type": "code",
   "execution_count": 551,
   "metadata": {},
   "outputs": [],
   "source": [
    "\n",
    "# Export to CSV\n",
    "combined_df.to_csv('combined_data.csv', index=False)"
   ]
  },
  {
   "cell_type": "code",
   "execution_count": 552,
   "metadata": {
    "id": "V3uay7EJUV_L"
   },
   "outputs": [],
   "source": [
    "#FILL IN - saving data"
   ]
  },
  {
   "cell_type": "markdown",
   "metadata": {
    "id": "cGy_yddGtzhM"
   },
   "source": [
    "## 5. Answer the research question\n",
    "\n",
    "### **5.1:** Define and answer the research question \n",
    "Going back to the problem statement in step 1, use the cleaned data to answer the question you raised. Produce **at least** two visualizations using the cleaned data and explain how they help you answer the question."
   ]
  },
  {
   "cell_type": "markdown",
   "metadata": {
    "id": "gjedE4s4ZkEd"
   },
   "source": [
    "*Research question:* FILL IN from answer to Step 1"
   ]
  },
  {
   "cell_type": "code",
   "execution_count": 561,
   "metadata": {
    "id": "Lkw3rW9kZmOm",
    "scrolled": true
   },
   "outputs": [
    {
     "data": {
      "image/png": "[encoded data removed]",
      "text/plain": [
       "<Figure size 640x480 with 1 Axes>"
      ]
     },
     "metadata": {},
     "output_type": "display_data"
    }
   ],
   "source": [
    "#Visual 1 - FILL IN\n",
    "\n",
    "df = combined_df[pd.to_datetime(combined_df['date']).dt.month == 6]\n",
    "plt.plot(december['date'], december['temp'], 'r')\n",
    "plt.show()\n"
   ]
  },
  {
   "cell_type": "code",
   "execution_count": 562,
   "metadata": {},
   "outputs": [
    {
     "data": {
      "image/png": "[encoded data removed]",
      "text/plain": [
       "<Figure size 640x480 with 1 Axes>"
      ]
     },
     "metadata": {},
     "output_type": "display_data"
    }
   ],
   "source": [
    "df = combined_df[pd.to_datetime(combined_df['date']).dt.month == 6]\n",
    "plt.plot(december['date'], december['co'], 'b')\n",
    "plt.show()"
   ]
  },
  {
   "cell_type": "markdown",
   "metadata": {},
   "source": [
    "*Answer to research question:* FILL IN"
   ]
  },
  {
   "cell_type": "code",
   "execution_count": null,
   "metadata": {
    "id": "6fdK_8ZGZm9R"
   },
   "outputs": [],
   "source": [
    "#Visual 2 - FILL IN"
   ]
  },
  {
   "cell_type": "markdown",
   "metadata": {
    "id": "K5RgvMGUZoHn"
   },
   "source": [
    "*Answer to research question:* FILL IN"
   ]
  },
  {
   "cell_type": "markdown",
   "metadata": {
    "id": "0ezWXXZVj-TP"
   },
   "source": [
    "### **5.2:** Reflection\n",
    "In 2-4 sentences, if you had more time to complete the project, what actions would you take? For example, which data quality and structural issues would you look into further, and what research questions would you further explore?"
   ]
  },
  {
   "cell_type": "markdown",
   "metadata": {
    "id": "XB3RBDG5kFe1"
   },
   "source": [
    "*Answer:* FILL IN"
   ]
  }
 ],
 "metadata": {
  "colab": {
   "provenance": []
  },
  "kernelspec": {
   "display_name": "Python [conda env:base] *",
   "language": "python",
   "name": "conda-base-py"
  },
  "language_info": {
   "codemirror_mode": {
    "name": "ipython",
    "version": 3
   },
   "file_extension": ".py",
   "mimetype": "text/x-python",
   "name": "python",
   "nbconvert_exporter": "python",
   "pygments_lexer": "ipython3",
   "version": "3.12.7"
  }
 },
 "nbformat": 4,
 "nbformat_minor": 4
}
